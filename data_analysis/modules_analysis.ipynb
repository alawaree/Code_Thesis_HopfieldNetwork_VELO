{
 "cells": [
  {
   "cell_type": "code",
   "execution_count": 1,
   "metadata": {},
   "outputs": [],
   "source": [
    "############################### DEPENDENCIES ##################################\n",
    "\n",
    "import json\n",
    "import os\n",
    "import sys\n",
    "import contextlib\n",
    "import io\n",
    "import numpy as np\n",
    "import inspect\n",
    "import os.path\n",
    "import matplotlib.pyplot as plt\n",
    "from math import pi, atan, sin, sqrt, tanh, cosh, exp, ceil\n",
    "import seaborn as sns\n",
    "from numpy.core.fromnumeric import shape\n",
    "import random\n",
    "import time\n",
    "import math\n",
    "import statistics\n",
    "from pathlib import Path"
   ]
  },
  {
   "cell_type": "code",
   "execution_count": 11,
   "metadata": {},
   "outputs": [
    {
     "name": "stdout",
     "output_type": "stream",
     "text": [
      "c:\\Users\\aurel\\Documents\\GitHub\\Code_Thesis_GitHub\\Code_Thesis_GitHub\n"
     ]
    }
   ],
   "source": [
    "module_path = os.path.abspath(os.path.join('..'))\n",
    "if module_path not in sys.path:\n",
    "    sys.path.append(module_path)\n",
    "\n",
    "print(module_path)\n",
    "\n",
    "project_root = module_path"
   ]
  },
  {
   "cell_type": "code",
   "execution_count": 6,
   "metadata": {},
   "outputs": [
    {
     "name": "stdout",
     "output_type": "stream",
     "text": [
      "C:\\Users\\aurel\\AppData\\Local\\Temp\n"
     ]
    }
   ],
   "source": [
    "#filename = inspect.getframeinfo(inspect.currentframe()).filename\n",
    "#file_path = os.path.dirname(os.path.abspath(filename))\n",
    "#project_root = os.path.dirname(file_path)\n",
    "\n",
    "#if project_root not in sys.path:\n",
    "#    sys.path.append(project_root)\n",
    "\n",
    "#print(project_root)"
   ]
  },
  {
   "cell_type": "code",
   "execution_count": 12,
   "metadata": {},
   "outputs": [],
   "source": [
    "from event_model import event_model as em\n",
    "from validator import validator_lite as vl\n",
    "import data_analysis.event_generator as eg\n",
    "from visual.color_map import Colormap"
   ]
  },
  {
   "cell_type": "code",
   "execution_count": 13,
   "metadata": {},
   "outputs": [],
   "source": [
    "def load_event(file_name, plot_event=False):\n",
    "# NB: some modifications might have been done for a better understanding\n",
    "    f = open(file_name)\n",
    "    json_data_event = json.loads(f.read())\n",
    "\n",
    "    ev = em.event(json_data_event, read_tracks=True)\n",
    "\n",
    "    modules = ev.modules\n",
    "    tracks = ev.real_tracks\n",
    "\n",
    "    if plot_event:\n",
    "        eg.plot_tracks_and_modules(tracks, modules, title=\"Loaded Event\")\n",
    "\n",
    "    modules_even = []\n",
    "    modules_odd = []\n",
    "\n",
    "    for i in range(len(modules)):\n",
    "        if i % 2 == 0:\n",
    "            modules_even.append(modules[i])\n",
    "        else:\n",
    "            modules_odd.append(modules[i])\n",
    "\n",
    "    return json_data_event, modules_even, modules_odd, tracks, modules"
   ]
  },
  {
   "cell_type": "code",
   "execution_count": 14,
   "metadata": {},
   "outputs": [
    {
     "name": "stdout",
     "output_type": "stream",
     "text": [
      "c:\\Users\\aurel\\Documents\\GitHub\\Code_Thesis_GitHub\\Code_Thesis_GitHub/datasets/minibias/velo_event_\n"
     ]
    }
   ],
   "source": [
    "i = 2\n",
    "event_file_name = \"/datasets/minibias/velo_event_\"\n",
    "file_name = project_root + event_file_name\n",
    "print(file_name)"
   ]
  },
  {
   "cell_type": "code",
   "execution_count": 167,
   "metadata": {},
   "outputs": [],
   "source": [
    "json_data_event, modules_even, modules_odd, tracks, modules = load_event(file_name + str(i) + \".json\", plot_event=False)"
   ]
  },
  {
   "cell_type": "code",
   "execution_count": 168,
   "metadata": {},
   "outputs": [
    {
     "name": "stdout",
     "output_type": "stream",
     "text": [
      "Modules even empty: 20\n",
      "Modules even not empty: 6\n",
      "Modules odd empty: 16\n",
      "Module odd not empty: 10\n"
     ]
    }
   ],
   "source": [
    "counter_even = 0\n",
    "counter_odd = 0\n",
    "for module in modules_even:\n",
    "    if module.hits() != []:\n",
    "        counter_even +=1\n",
    "\n",
    "print(f'Modules even empty: {counter_even}')\n",
    "print(f'Modules even not empty: {len(modules_even)-counter_even}')\n",
    "\n",
    "for module in modules_odd:\n",
    "    if module.hits() != []:\n",
    "        counter_odd +=1\n",
    "print(f'Modules odd empty: {counter_odd}')\n",
    "print(f'Module odd not empty: {len(modules_odd)-counter_odd}')\n"
   ]
  },
  {
   "cell_type": "code",
   "execution_count": 169,
   "metadata": {},
   "outputs": [
    {
     "name": "stdout",
     "output_type": "stream",
     "text": [
      "Track with 15 hits: [#15 module 23 {1.69, 6.806, 99.419}, #21 module 25 {1.962, 8.012, 124.419}, #27 module 27 {2.273, 9.178, 149.419}, #35 module 29 {2.565, 10.326, 174.419}, #43 module 31 {2.818, 11.512, 199.419}, #52 module 33 {3.129, 12.678, 224.419}, #63 module 35 {3.401, 13.884, 249.419}, #72 module 37 {3.712, 15.051, 274.419}, #79 module 39 {4.296, 17.423, 324.419}, #89 module 41 {5.151, 21.001, 399.419}, #99 module 43 {6.311, 25.753, 500.581}, #107 module 45 {7.439, 30.459, 600.581}, #115 module 47 {7.983, 32.792, 650.581}, #124 module 49 {8.567, 35.164, 700.581}, #132 module 51 {9.111, 37.498, 750.581}]\n",
      "<class 'list'>\n",
      "<class 'list'>\n"
     ]
    }
   ],
   "source": [
    "print(tracks[0])\n",
    "\n",
    "print(type(tracks))\n",
    "print(type(tracks[0].hits))\n",
    "\n",
    "#> look at each hits in a track, \n",
    "# if module number is even increase counter even of 1, \n",
    "# if module number is odd increase counter odd of 1\n"
   ]
  },
  {
   "attachments": {},
   "cell_type": "markdown",
   "metadata": {},
   "source": [
    "Pour chaque event, \n",
    "regarder chaque trace \n",
    "compter le nombre de hits en tout,\n",
    "compter le nombre hits dans dans chaque type de module(even and odd)\n",
    "\n"
   ]
  },
  {
   "cell_type": "code",
   "execution_count": 200,
   "metadata": {},
   "outputs": [
    {
     "name": "stdout",
     "output_type": "stream",
     "text": [
      "13\n",
      "[15, 12, 8, 5, 10, 10, 3, 15, 11, 13, 11, 12, 5]\n",
      "[15, 0, 0, 4, 0, 0, 1, 12, 0, 13, 11, 5, 0]\n",
      "[0, 12, 8, 1, 10, 10, 2, 3, 11, 0, 0, 7, 5]\n",
      "Percentage in odd: [1.0, 0.0, 0.0, 0.8, 0.0, 0.0, 0.3333333333333333, 0.8, 0.0, 1.0, 1.0, 0.4166666666666667, 0.0]\n",
      "Percentage in even: [0.0, 1.0, 1.0, 0.2, 1.0, 1.0, 0.6666666666666666, 0.2, 1.0, 0.0, 0.0, 0.5833333333333334, 1.0]\n",
      "9\n",
      "0.6923076923076923\n",
      "4\n",
      "0.3076923076923077\n"
     ]
    }
   ],
   "source": [
    "# For 1 event\n",
    "number_hits_by_track = []\n",
    " \n",
    "counter_by_track_odd = []\n",
    "counter_by_track_even =[]\n",
    "\n",
    "number_of_tracks = len(tracks)\n",
    "print(number_of_tracks)\n",
    "\n",
    "for track in tracks:\n",
    "    number_hits = len(track.hits)\n",
    "    number_hits_by_track.append(number_hits)\n",
    "\n",
    "for track in tracks:\n",
    "    counter_hits_odd_module = 0\n",
    "    counter_hits_even_module = 0\n",
    "    for hits in track:\n",
    "        if hits.module_number % 2 == 1:\n",
    "            counter_hits_odd_module +=1\n",
    "        else:\n",
    "            counter_hits_even_module +=1\n",
    "    counter_by_track_odd.append(counter_hits_odd_module)\n",
    "    counter_by_track_even.append(counter_hits_even_module)\n",
    "\n",
    "print(number_hits_by_track)\n",
    "print(counter_by_track_odd)\n",
    "print(counter_by_track_even)\n",
    "\n",
    "percentage_of_tracks_odd_modules = [x/y for x,y in zip(counter_by_track_odd,number_hits_by_track)]\n",
    "percentage_of_tracks_even_modules = [x/y for x,y in zip(counter_by_track_even,number_hits_by_track)]\n",
    "\n",
    "print(f'Percentage in odd: {percentage_of_tracks_odd_modules}')\n",
    "print(f'Percentage in even: {percentage_of_tracks_even_modules}')\n",
    "\n",
    "number_of_not_mixed_tracks = len([x for x in percentage_of_tracks_even_modules if x in [0,1]])\n",
    "percentage_of_not_mixed_tracks = number_of_not_mixed_tracks/number_of_tracks\n",
    "\n",
    "print(number_of_not_mixed_tracks)\n",
    "print(percentage_of_not_mixed_tracks)\n",
    "\n",
    "number_of_mixed_tracks = len([x for x in percentage_of_tracks_even_modules if not x in [0,1]])\n",
    "percentage_of_mixed_tracks = number_of_mixed_tracks/number_of_tracks\n",
    "\n",
    "print(number_of_mixed_tracks)\n",
    "print(percentage_of_mixed_tracks)\n",
    "\n",
    "\n",
    "\n"
   ]
  },
  {
   "cell_type": "code",
   "execution_count": 201,
   "metadata": {},
   "outputs": [],
   "source": [
    "# Create the fct for 1 event\n",
    "def tracks_even_odd_modules(tracks):\n",
    "    number_hits_by_track = []\n",
    "    counter_by_track_odd = []\n",
    "    counter_by_track_even =[]\n",
    "\n",
    "    number_of_tracks = len(tracks)\n",
    "\n",
    "    for track in tracks:\n",
    "        number_hits = len(track.hits)\n",
    "        number_hits_by_track.append(number_hits)\n",
    "\n",
    "    for track in tracks:\n",
    "        counter_hits_odd_module = 0\n",
    "        counter_hits_even_module = 0\n",
    "        for hits in track:\n",
    "            if hits.module_number % 2 == 1:\n",
    "                counter_hits_odd_module +=1\n",
    "            else:\n",
    "                counter_hits_even_module +=1\n",
    "        counter_by_track_odd.append(counter_hits_odd_module)\n",
    "        counter_by_track_even.append(counter_hits_even_module)\n",
    "\n",
    "    percentage_of_tracks_odd_modules = [x/y for x,y in zip(counter_by_track_odd,number_hits_by_track)]\n",
    "    percentage_of_tracks_even_modules = [x/y for x,y in zip(counter_by_track_even,number_hits_by_track)]\n",
    "\n",
    "    number_of_not_mixed_tracks = len([x for x in percentage_of_tracks_even_modules if x in [0,1]])\n",
    "    percentage_of_not_mixed_tracks = number_of_not_mixed_tracks/number_of_tracks\n",
    "\n",
    "    number_of_mixed_tracks = len([x for x in percentage_of_tracks_even_modules if not x in [0,1]])\n",
    "    percentage_of_mixed_tracks = number_of_mixed_tracks/number_of_tracks\n",
    "\n",
    "    return  percentage_of_not_mixed_tracks, percentage_of_mixed_tracks\n"
   ]
  },
  {
   "cell_type": "code",
   "execution_count": 208,
   "metadata": {},
   "outputs": [
    {
     "name": "stdout",
     "output_type": "stream",
     "text": [
      "The percentage of not mixed track in the event 2 is 0.6923076923076923 %.\n",
      "The percentage of mixed track in the event 2 is 0.3076923076923077 %.\n"
     ]
    }
   ],
   "source": [
    "percentage_of_not_mixed_tracks, percentage_of_mixed_tracks = tracks_even_odd_modules(tracks)\n",
    "print(f'The percentage of not mixed track in the event {i} is {percentage_of_not_mixed_tracks} %.')\n",
    "print(f'The percentage of mixed track in the event {i} is {percentage_of_mixed_tracks} %.')"
   ]
  }
 ],
 "metadata": {
  "kernelspec": {
   "display_name": "Python 3",
   "language": "python",
   "name": "python3"
  },
  "language_info": {
   "codemirror_mode": {
    "name": "ipython",
    "version": 3
   },
   "file_extension": ".py",
   "mimetype": "text/x-python",
   "name": "python",
   "nbconvert_exporter": "python",
   "pygments_lexer": "ipython3",
   "version": "3.9.2"
  },
  "orig_nbformat": 4,
  "vscode": {
   "interpreter": {
    "hash": "01fe50a16b4ce4d8d34632692592e1bc62ea71f5ccf21d36838697cffecce7a9"
   }
  }
 },
 "nbformat": 4,
 "nbformat_minor": 2
}
