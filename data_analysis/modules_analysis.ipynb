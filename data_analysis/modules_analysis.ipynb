{
 "cells": [
  {
   "cell_type": "code",
   "execution_count": 1,
   "metadata": {},
   "outputs": [],
   "source": [
    "############################### DEPENDENCIES ##################################\n",
    "\n",
    "import json\n",
    "import os\n",
    "import sys\n",
    "import contextlib\n",
    "import io\n",
    "import numpy as np\n",
    "import inspect\n",
    "import os.path\n",
    "import matplotlib.pyplot as plt\n",
    "from math import pi, atan, sin, sqrt, tanh, cosh, exp, ceil\n",
    "import seaborn as sns\n",
    "from numpy.core.fromnumeric import shape\n",
    "import random\n",
    "import time\n",
    "import math\n",
    "import statistics\n",
    "from pathlib import Path"
   ]
  },
  {
   "cell_type": "code",
   "execution_count": 11,
   "metadata": {},
   "outputs": [
    {
     "name": "stdout",
     "output_type": "stream",
     "text": [
      "c:\\Users\\aurel\\Documents\\GitHub\\Code_Thesis_GitHub\\Code_Thesis_GitHub\n"
     ]
    }
   ],
   "source": [
    "module_path = os.path.abspath(os.path.join('..'))\n",
    "if module_path not in sys.path:\n",
    "    sys.path.append(module_path)\n",
    "\n",
    "print(module_path)\n",
    "\n",
    "project_root = module_path"
   ]
  },
  {
   "cell_type": "code",
   "execution_count": 6,
   "metadata": {},
   "outputs": [
    {
     "name": "stdout",
     "output_type": "stream",
     "text": [
      "C:\\Users\\aurel\\AppData\\Local\\Temp\n"
     ]
    }
   ],
   "source": [
    "#filename = inspect.getframeinfo(inspect.currentframe()).filename\n",
    "#file_path = os.path.dirname(os.path.abspath(filename))\n",
    "#project_root = os.path.dirname(file_path)\n",
    "\n",
    "#if project_root not in sys.path:\n",
    "#    sys.path.append(project_root)\n",
    "\n",
    "#print(project_root)"
   ]
  },
  {
   "cell_type": "code",
   "execution_count": 12,
   "metadata": {},
   "outputs": [],
   "source": [
    "from event_model import event_model as em\n",
    "from validator import validator_lite as vl\n",
    "import data_analysis.event_generator as eg\n",
    "from visual.color_map import Colormap"
   ]
  },
  {
   "cell_type": "code",
   "execution_count": 295,
   "metadata": {},
   "outputs": [],
   "source": [
    "def load_event(file_name, plot_event=False):\n",
    "# NB: some modifications might have been done for a better understanding\n",
    "    f = open(file_name)\n",
    "    json_data_event = json.loads(f.read())\n",
    "\n",
    "    ev = em.event(json_data_event, read_tracks=True)\n",
    "\n",
    "    modules = ev.modules\n",
    "    tracks = ev.real_tracks\n",
    "\n",
    "    if plot_event:\n",
    "        eg.plot_tracks_and_modules(tracks, modules, title=\"Loaded Event\")\n",
    "\n",
    "    modules_even = []\n",
    "    modules_odd = []\n",
    "\n",
    "    for i in range(len(modules)):\n",
    "        if i % 2 == 0:\n",
    "            modules_even.append(modules[i])\n",
    "        else:\n",
    "            modules_odd.append(modules[i])\n",
    "\n",
    "    return json_data_event, modules_even, modules_odd, tracks, modules"
   ]
  },
  {
   "cell_type": "code",
   "execution_count": 296,
   "metadata": {},
   "outputs": [
    {
     "name": "stdout",
     "output_type": "stream",
     "text": [
      "c:\\Users\\aurel\\Documents\\GitHub\\Code_Thesis_GitHub\\Code_Thesis_GitHub/datasets/minibias/velo_event_\n"
     ]
    }
   ],
   "source": [
    "i = 1\n",
    "event_file_name = \"/datasets/minibias/velo_event_\"\n",
    "file_name = project_root + event_file_name\n",
    "print(file_name)"
   ]
  },
  {
   "cell_type": "code",
   "execution_count": 297,
   "metadata": {},
   "outputs": [],
   "source": [
    "json_data_event, modules_even, modules_odd, tracks, modules = load_event(file_name + str(i) + \".json\", plot_event=False)"
   ]
  },
  {
   "cell_type": "code",
   "execution_count": 298,
   "metadata": {},
   "outputs": [
    {
     "name": "stdout",
     "output_type": "stream",
     "text": [
      "Modules even empty: 26\n",
      "Modules even not empty: 0\n",
      "Modules odd empty: 26\n",
      "Module odd not empty: 0\n"
     ]
    }
   ],
   "source": [
    "counter_even = 0\n",
    "counter_odd = 0\n",
    "for module in modules_even:\n",
    "    if module.hits() != []:\n",
    "        counter_even +=1\n",
    "\n",
    "print(f'Modules even empty: {counter_even}')\n",
    "print(f'Modules even not empty: {len(modules_even)-counter_even}')\n",
    "\n",
    "for module in modules_odd:\n",
    "    if module.hits() != []:\n",
    "        counter_odd +=1\n",
    "print(f'Modules odd empty: {counter_odd}')\n",
    "print(f'Module odd not empty: {len(modules_odd)-counter_odd}')\n"
   ]
  },
  {
   "cell_type": "code",
   "execution_count": 299,
   "metadata": {},
   "outputs": [
    {
     "name": "stdout",
     "output_type": "stream",
     "text": [
      "Track with 5 hits: [#63 module 1 {8.225, -9.914, -274.418}, #155 module 3 {7.525, -9.098, -249.418}, #243 module 5 {6.845, -8.262, -224.418}, #335 module 7 {6.184, -7.445, -199.418}, #443 module 9 {4.122, -4.995, -124.418}]\n",
      "<class 'list'>\n",
      "<class 'list'>\n"
     ]
    }
   ],
   "source": [
    "print(tracks[0])\n",
    "\n",
    "print(type(tracks))\n",
    "print(type(tracks[0].hits))\n",
    "\n",
    "#> look at each hits in a track, \n",
    "# if module number is even increase counter even of 1, \n",
    "# if module number is odd increase counter odd of 1\n"
   ]
  },
  {
   "attachments": {},
   "cell_type": "markdown",
   "metadata": {},
   "source": [
    "Pour chaque event, \n",
    "regarder chaque trace \n",
    "compter le nombre de hits en tout,\n",
    "compter le nombre hits dans dans chaque type de module(even and odd)\n",
    "\n"
   ]
  },
  {
   "cell_type": "code",
   "execution_count": 311,
   "metadata": {},
   "outputs": [
    {
     "name": "stdout",
     "output_type": "stream",
     "text": [
      "Total number of tracks: 344\n",
      "Total number of not mixed tracks: 290\n",
      "Percentage of mixed tracks: 0.8430232558139535\n",
      "Total number of mixed tracks: 54\n",
      "Percentage of mixed tracks: 0.1569767441860465\n"
     ]
    }
   ],
   "source": [
    "# For 1 event\n",
    "number_hits_by_track = []\n",
    " \n",
    "counter_by_track_odd = []\n",
    "counter_by_track_even =[]\n",
    "\n",
    "number_of_tracks = len(tracks)\n",
    "print(f'Total number of tracks: {number_of_tracks}')\n",
    "\n",
    "for track in tracks:\n",
    "    number_hits = len(track.hits)\n",
    "    number_hits_by_track.append(number_hits)\n",
    "\n",
    "for track in tracks:\n",
    "    counter_hits_odd_module = 0\n",
    "    counter_hits_even_module = 0\n",
    "    for hits in track:\n",
    "        if hits.module_number % 2 == 1:\n",
    "            counter_hits_odd_module +=1\n",
    "        else:\n",
    "            counter_hits_even_module +=1\n",
    "    counter_by_track_odd.append(counter_hits_odd_module)\n",
    "    counter_by_track_even.append(counter_hits_even_module)\n",
    "\n",
    "#print(number_hits_by_track)\n",
    "#print(counter_by_track_odd)\n",
    "#print(counter_by_track_even)\n",
    "\n",
    "percentage_of_tracks_odd_modules = [x/y for x,y in zip(counter_by_track_odd,number_hits_by_track)]\n",
    "percentage_of_tracks_even_modules = [x/y for x,y in zip(counter_by_track_even,number_hits_by_track)]\n",
    "\n",
    "#print(f'Percentage in odd modules by module: {percentage_of_tracks_odd_modules}')\n",
    "#print(f'Percentage in even modules by module: {percentage_of_tracks_even_modules}')\n",
    "\n",
    "number_of_not_mixed_tracks = len([x for x in percentage_of_tracks_even_modules if x in [0,1]])\n",
    "percentage_of_not_mixed_tracks = number_of_not_mixed_tracks/number_of_tracks\n",
    "\n",
    "print(f'Total number of not mixed tracks: {number_of_not_mixed_tracks}')\n",
    "print(f'Percentage of mixed tracks: {percentage_of_not_mixed_tracks}')\n",
    "\n",
    "number_of_mixed_tracks = len([x for x in percentage_of_tracks_even_modules if not x in [0,1]])\n",
    "percentage_of_mixed_tracks = number_of_mixed_tracks/number_of_tracks\n",
    "\n",
    "print(f'Total number of mixed tracks: {number_of_mixed_tracks}')\n",
    "print(f'Percentage of mixed tracks: {percentage_of_mixed_tracks}')"
   ]
  },
  {
   "cell_type": "code",
   "execution_count": 340,
   "metadata": {},
   "outputs": [],
   "source": [
    "# Create the fct for 1 event\n",
    "def percentage_tracks_even_odd_modules(tracks):\n",
    "    number_hits_by_track = []\n",
    "    counter_by_track_odd = []\n",
    "    counter_by_track_even =[]\n",
    "\n",
    "    number_of_tracks = len(tracks)\n",
    "\n",
    "    for track in tracks:\n",
    "        number_hits = len(track.hits)\n",
    "        number_hits_by_track.append(number_hits)\n",
    "\n",
    "    for track in tracks:\n",
    "        counter_hits_odd_module = 0\n",
    "        counter_hits_even_module = 0\n",
    "        for hits in track:\n",
    "            if hits.module_number % 2 == 1:\n",
    "                counter_hits_odd_module +=1\n",
    "            else:\n",
    "                counter_hits_even_module +=1\n",
    "        counter_by_track_odd.append(counter_hits_odd_module)\n",
    "        counter_by_track_even.append(counter_hits_even_module)\n",
    "\n",
    "    percentage_of_tracks_odd_modules = [x/y for x,y in zip(counter_by_track_odd,number_hits_by_track)]\n",
    "    percentage_of_tracks_even_modules = [x/y for x,y in zip(counter_by_track_even,number_hits_by_track)]\n",
    "\n",
    "    number_of_not_mixed_tracks = len([x for x in percentage_of_tracks_even_modules if x in [0,1]])\n",
    "    percentage_of_not_mixed_tracks = number_of_not_mixed_tracks/number_of_tracks\n",
    "\n",
    "    number_of_mixed_tracks = len([x for x in percentage_of_tracks_even_modules if not x in [0,1]])\n",
    "    percentage_of_mixed_tracks = number_of_mixed_tracks/number_of_tracks\n",
    "\n",
    "    return  percentage_of_not_mixed_tracks, percentage_of_mixed_tracks\n"
   ]
  },
  {
   "cell_type": "code",
   "execution_count": 341,
   "metadata": {},
   "outputs": [
    {
     "name": "stdout",
     "output_type": "stream",
     "text": [
      "The percentage of not mixed track in the event 999 is 0.8430232558139535 %.\n",
      "The percentage of mixed track in the event 999 is 0.1569767441860465 %.\n"
     ]
    }
   ],
   "source": [
    "percentage_of_not_mixed_tracks, percentage_of_mixed_tracks = percentage_tracks_even_odd_modules(tracks)\n",
    "print(f'The percentage of not mixed track in the event {i} is {percentage_of_not_mixed_tracks} %.')\n",
    "print(f'The percentage of mixed track in the event {i} is {percentage_of_mixed_tracks} %.')"
   ]
  },
  {
   "attachments": {},
   "cell_type": "markdown",
   "metadata": {},
   "source": [
    "## Implementations on several events"
   ]
  },
  {
   "cell_type": "code",
   "execution_count": 303,
   "metadata": {},
   "outputs": [],
   "source": [
    "# resource switch\n",
    "dataset={\n",
    "    'small':'datasets/small_dataset',\n",
    "    'bsphiphi': 'datasets/bsphiphi',\n",
    "    'minibias': 'datasets/minibias'\n",
    "}\n"
   ]
  },
  {
   "attachments": {},
   "cell_type": "markdown",
   "metadata": {},
   "source": [
    "1. Bsphiphi dataset"
   ]
  },
  {
   "cell_type": "code",
   "execution_count": 337,
   "metadata": {},
   "outputs": [],
   "source": [
    "DATASET = 'bsphiphi'\n",
    "load_percent = 100\n",
    "shuffle = True"
   ]
  },
  {
   "cell_type": "code",
   "execution_count": 338,
   "metadata": {},
   "outputs": [],
   "source": [
    "all_events = []\n",
    "all_modules = []\n",
    "all_tracks = []\n",
    "\n",
    "for (dirpath, dirnames, filenames) in os.walk(os.path.abspath(os.path.join('..', dataset[DATASET]))):\n",
    "    if shuffle:\n",
    "        random.shuffle(filenames)\n",
    "\n",
    "    for i, filename in enumerate(filenames):\n",
    "        # Get an event\n",
    "        f = open(os.path.realpath(os.path.join(dirpath, filename)))\n",
    "        json_data_event = json.loads(f.read())\n",
    "\n",
    "        ###\n",
    "        ev = em.event(json_data_event, read_tracks=True)\n",
    "        md = ev.modules\n",
    "        tk = ev.real_tracks\n",
    "        \n",
    "        ###\n",
    "        all_events.append(ev) \n",
    "        all_modules.append(md)\n",
    "        all_tracks.append(tk)\n",
    "\n",
    "        f.close()\n",
    "        \n",
    "        if i == int(load_percent * len(filenames)):\n",
    "            print(f'successfully loaded {i} events from {DATASET}')\n",
    "            break "
   ]
  },
  {
   "cell_type": "code",
   "execution_count": 342,
   "metadata": {},
   "outputs": [],
   "source": [
    "total_mixed_track = []\n",
    "total_not_mixed_track = []\n",
    "total_number_tracks  = 0\n",
    "\n",
    "for event in all_tracks:\n",
    "    for track in all_tracks:\n",
    "        total_number_tracks +=1\n",
    "        percentage_of_not_mixed_tracks, percentage_of_mixed_tracks = percentage_tracks_even_odd_modules(track)\n",
    "        total_not_mixed_track.append(percentage_of_not_mixed_tracks)\n",
    "        total_mixed_track.append(percentage_of_mixed_tracks)\n",
    "\n",
    "    #print(f'The percentage of not mixed track in the event {i} is {percentage_of_not_mixed_tracks} %.')\n",
    "    #print(f'The percentage of mixed track in the event {i} is {percentage_of_mixed_tracks} %.')\n",
    "total_percentage_not_mixed_track = (sum(total_not_mixed_track)/total_number_tracks)*100\n",
    "total_percentage_mixed_track = (sum(total_mixed_track)/total_number_tracks)*100\n",
    "\n",
    "print(f'Total number of analysed tracks: {total_number_tracks} tracks.')\n",
    "print(f'Total not mixed tracks: {total_percentage_not_mixed_track} %.')\n",
    "print(f'Total mixed tracks: {total_percentage_mixed_track} %.')\n"
   ]
  },
  {
   "cell_type": "code",
   "execution_count": null,
   "metadata": {},
   "outputs": [],
   "source": [
    "def all_events_percentage_tracks_even_odd_modules(all_tracks):\n",
    "    total_mixed_track = []\n",
    "    total_not_mixed_track = []\n",
    "    total_number_tracks  = 0\n",
    "\n",
    "    for event in all_tracks:\n",
    "        for track in all_tracks:\n",
    "            total_number_tracks +=1\n",
    "            percentage_of_not_mixed_tracks, percentage_of_mixed_tracks = percentage_tracks_even_odd_modules(track)\n",
    "            total_not_mixed_track.append(percentage_of_not_mixed_tracks)\n",
    "            total_mixed_track.append(percentage_of_mixed_tracks)\n",
    "\n",
    "    total_percentage_not_mixed_track = (sum(total_not_mixed_track)/total_number_tracks)*100\n",
    "    total_percentage_mixed_track = (sum(total_mixed_track)/total_number_tracks)*100\n",
    "\n",
    "    print(f'Total number of analysed tracks: {total_number_tracks} tracks.')\n",
    "    print(f'Total not mixed tracks: {total_percentage_not_mixed_track} %.')\n",
    "    print(f'Total mixed tracks: {total_percentage_mixed_track} %.')\n",
    "\n"
   ]
  },
  {
   "attachments": {},
   "cell_type": "markdown",
   "metadata": {},
   "source": [
    "2. Minibias datasets"
   ]
  },
  {
   "cell_type": "code",
   "execution_count": null,
   "metadata": {},
   "outputs": [],
   "source": [
    "DATASET = 'minibias'\n",
    "load_percent = 100\n",
    "shuffle = True"
   ]
  },
  {
   "cell_type": "code",
   "execution_count": null,
   "metadata": {},
   "outputs": [],
   "source": [
    "all_events = []\n",
    "all_modules = []\n",
    "all_tracks = []\n",
    "\n",
    "for (dirpath, dirnames, filenames) in os.walk(os.path.abspath(os.path.join('..', dataset[DATASET]))):\n",
    "    if shuffle:\n",
    "        random.shuffle(filenames)\n",
    "\n",
    "    for i, filename in enumerate(filenames):\n",
    "        # Get an event\n",
    "        f = open(os.path.realpath(os.path.join(dirpath, filename)))\n",
    "        json_data_event = json.loads(f.read())\n",
    "\n",
    "        ###\n",
    "        ev = em.event(json_data_event, read_tracks=True)\n",
    "        md = ev.modules\n",
    "        tk = ev.real_tracks\n",
    "        \n",
    "        ###\n",
    "        all_events.append(ev) \n",
    "        all_modules.append(md)\n",
    "        all_tracks.append(tk)\n",
    "\n",
    "        f.close()\n",
    "        \n",
    "        if i == int(load_percent * len(filenames)):\n",
    "            print(f'successfully loaded {i} events from {DATASET}')\n",
    "            break "
   ]
  },
  {
   "cell_type": "code",
   "execution_count": null,
   "metadata": {},
   "outputs": [],
   "source": [
    "total_mixed_track = []\n",
    "total_not_mixed_track = []\n",
    "total_number_tracks  = 0\n",
    "\n",
    "for event in all_tracks:\n",
    "    for track in all_tracks:\n",
    "        total_number_tracks +=1\n",
    "        percentage_of_not_mixed_tracks, percentage_of_mixed_tracks = percentage_tracks_even_odd_modules(track)\n",
    "        total_not_mixed_track.append(percentage_of_not_mixed_tracks)\n",
    "        total_mixed_track.append(percentage_of_mixed_tracks)\n",
    "\n",
    "total_percentage_not_mixed_track = (sum(total_not_mixed_track)/total_number_tracks)*100\n",
    "total_percentage_mixed_track = (sum(total_mixed_track)/total_number_tracks)*100\n",
    "\n",
    "print(f'Total number of analysed tracks: {total_number_tracks} tracks.')\n",
    "print(f'Total not mixed tracks: {total_percentage_not_mixed_track} %.')\n",
    "print(f'Total mixed tracks: {total_percentage_mixed_track} %.')"
   ]
  }
 ],
 "metadata": {
  "kernelspec": {
   "display_name": "Python 3",
   "language": "python",
   "name": "python3"
  },
  "language_info": {
   "codemirror_mode": {
    "name": "ipython",
    "version": 3
   },
   "file_extension": ".py",
   "mimetype": "text/x-python",
   "name": "python",
   "nbconvert_exporter": "python",
   "pygments_lexer": "ipython3",
   "version": "3.9.2"
  },
  "orig_nbformat": 4,
  "vscode": {
   "interpreter": {
    "hash": "01fe50a16b4ce4d8d34632692592e1bc62ea71f5ccf21d36838697cffecce7a9"
   }
  }
 },
 "nbformat": 4,
 "nbformat_minor": 2
}
