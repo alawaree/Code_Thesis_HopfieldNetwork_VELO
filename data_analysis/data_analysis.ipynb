{
 "cells": [
  {
   "cell_type": "code",
   "execution_count": 1,
   "metadata": {},
   "outputs": [],
   "source": [
    "# get the relevant dependencies \n",
    "import json\n",
    "import os\n",
    "import sys \n",
    "module_path = os.path.abspath(os.path.join('..'))\n",
    "if module_path not in sys.path:\n",
    "    sys.path.append(module_path)\n",
    "from event_model import event_model as em"
   ]
  },
  {
   "cell_type": "code",
   "execution_count": 2,
   "metadata": {},
   "outputs": [],
   "source": [
    "# read in the events -> from the folder choosen \n",
    "all_considered_events = []\n",
    "\n",
    "# here we could plug in the events from cern that we got send i would actually like to do that\n",
    "#for (dirpath, dirnames, filenames) in os.walk(os.path.abspath(os.path.join('..', 'events'))):\n",
    "for (dirpath, dirnames, filenames) in os.walk(os.path.abspath(os.path.join('..','..', 'events_minbias_mag_down_run3'))):\n",
    "    for i, filename in enumerate(filenames):\n",
    "        # Get an event\n",
    "        f = open(os.path.realpath(os.path.join(dirpath, filename)))\n",
    "        json_data = json.loads(f.read())\n",
    "        all_considered_events = all_considered_events + [em.event(json_data)]\n",
    "        f.close()\n",
    "        \n",
    "        # lets take the first 50 event fromt he new dataset\n",
    "        if i == 50:\n",
    "            break\n"
   ]
  },
  {
   "cell_type": "code",
   "execution_count": 3,
   "metadata": {},
   "outputs": [
    {
     "name": "stdout",
     "output_type": "stream",
     "text": [
      "[<event_model.event_model.event object at 0x7fb659b6fa00>, <event_model.event_model.event object at 0x7fb659b6fe80>, <event_model.event_model.event object at 0x7fb659da4cd0>, <event_model.event_model.event object at 0x7fb659ee6550>, <event_model.event_model.event object at 0x7fb659fd10a0>, <event_model.event_model.event object at 0x7fb65a0b3310>, <event_model.event_model.event object at 0x7fb65a2c68b0>, <event_model.event_model.event object at 0x7fb65a30f8e0>, <event_model.event_model.event object at 0x7fb65a2cebb0>, <event_model.event_model.event object at 0x7fb65a417a90>, <event_model.event_model.event object at 0x7fb65a52b3d0>, <event_model.event_model.event object at 0x7fb65a5ec310>, <event_model.event_model.event object at 0x7fb65a79a5b0>, <event_model.event_model.event object at 0x7fb65a842820>, <event_model.event_model.event object at 0x7fb65a928220>, <event_model.event_model.event object at 0x7fb65a98d670>, <event_model.event_model.event object at 0x7fb65aa72550>, <event_model.event_model.event object at 0x7fb65ab54610>, <event_model.event_model.event object at 0x7fb65ac049d0>, <event_model.event_model.event object at 0x7fb65aca6eb0>, <event_model.event_model.event object at 0x7fb65ad49760>, <event_model.event_model.event object at 0x7fb65ae45220>, <event_model.event_model.event object at 0x7fb65afab430>, <event_model.event_model.event object at 0x7fb65b010dc0>, <event_model.event_model.event object at 0x7fb65b046be0>, <event_model.event_model.event object at 0x7fb65b0f2100>, <event_model.event_model.event object at 0x7fb65b1cf370>, <event_model.event_model.event object at 0x7fb65b2b8820>, <event_model.event_model.event object at 0x7fb65b5a4c40>, <event_model.event_model.event object at 0x7fb65b603670>, <event_model.event_model.event object at 0x7fb65b82a400>, <event_model.event_model.event object at 0x7fb65ba05d30>, <event_model.event_model.event object at 0x7fb65bc558b0>, <event_model.event_model.event object at 0x7fb65bd165e0>, <event_model.event_model.event object at 0x7fb65a3bebe0>, <event_model.event_model.event object at 0x7fb65be84970>, <event_model.event_model.event object at 0x7fb65bf98c10>, <event_model.event_model.event object at 0x7fb65c08aa00>, <event_model.event_model.event object at 0x7fb65c1f8730>, <event_model.event_model.event object at 0x7fb65c2b24f0>, <event_model.event_model.event object at 0x7fb65c3cb730>, <event_model.event_model.event object at 0x7fb65c540940>, <event_model.event_model.event object at 0x7fb65c5dfc40>, <event_model.event_model.event object at 0x7fb65c745f40>, <event_model.event_model.event object at 0x7fb65c8027f0>, <event_model.event_model.event object at 0x7fb65c973100>, <event_model.event_model.event object at 0x7fb65ca18790>, <event_model.event_model.event object at 0x7fb65cab7580>, <event_model.event_model.event object at 0x7fb65cb14d30>, <event_model.event_model.event object at 0x7fb65cc7aca0>, <event_model.event_model.event object at 0x7fb65cd0a640>]\n"
     ]
    }
   ],
   "source": [
    "#os.path.abspath(os.path.join('..','..', 'events_minbias_mag_down_run3'))\n",
    "print(all_considered_events)"
   ]
  },
  {
   "cell_type": "code",
   "execution_count": 4,
   "metadata": {},
   "outputs": [
    {
     "name": "stdout",
     "output_type": "stream",
     "text": [
      "{-288.08, -286.918}\n",
      "-1.1619999999999777\n",
      "52\n"
     ]
    }
   ],
   "source": [
    "# is the distance beween the parts of one module always the same?\n",
    "event = all_considered_events[0] # take the first of the elements for this check\n",
    "\n",
    "event.module_zs\n",
    "for module in event.module_zs:\n",
    "    print(module)\n",
    "    print(list(module)[0]-list(module)[1])\n",
    "    # pretty damn the same\n",
    "    break\n",
    "print(len(event.module_zs)) # -> 52 modules with two parts always\n",
    "    "
   ]
  },
  {
   "cell_type": "code",
   "execution_count": 5,
   "metadata": {},
   "outputs": [],
   "source": [
    "# particle class to properly handle the real tracks -> might want to plot angles where we see the highest density\n",
    "class particle(object):\n",
    "    def __init__(self, particle, event):\n",
    "        self.key = particle[0]\n",
    "        self.pid = particle[1]\n",
    "        self.p = particle[2]\n",
    "        self.pt = particle[3]\n",
    "        self.eta = particle[4]\n",
    "        self.phi = particle[5]\n",
    "        self.isLong = particle[6]\n",
    "        self.isDown = particle[7]\n",
    "        self.hasVelo = particle[8]\n",
    "        self.hasUT = particle[9]\n",
    "        self.hasScifi = particle[10]\n",
    "        #self.fromBeautyDecay = particle[11]\n",
    "        #self.fromCharmDecay = particle[12]\n",
    "        #self.fromStrangeDecay = particle[13]\n",
    "        self.charge = particle[14]\n",
    "        self.hits = particle[15]\n",
    "        self.track = [hit for hit in event.hits if hit.id in self.hits]\n",
    "        self.is_decay = particle[11] or particle[12] or particle[13]"
   ]
  },
  {
   "cell_type": "code",
   "execution_count": 6,
   "metadata": {},
   "outputs": [
    {
     "name": "stdout",
     "output_type": "stream",
     "text": [
      "we look at 51 events \n",
      "\n",
      "0.0% done\n",
      "0.02% done\n",
      "0.04% done\n",
      "0.06% done\n",
      "0.08% done\n",
      "0.1% done\n",
      "0.12% done\n",
      "0.14% done\n",
      "0.16% done\n",
      "0.18% done\n",
      "0.2% done\n",
      "0.22% done\n",
      "0.24% done\n",
      "0.26% done\n",
      "0.28% done\n",
      "0.3% done\n",
      "0.32% done\n",
      "0.34% done\n",
      "0.36% done\n",
      "0.38% done\n",
      "0.4% done\n",
      "0.42% done\n",
      "0.44% done\n",
      "0.46% done\n",
      "0.48% done\n",
      "0.5% done\n",
      "0.52% done\n",
      "0.54% done\n",
      "0.56% done\n",
      "0.58% done\n",
      "0.6% done\n",
      "0.62% done\n",
      "0.64% done\n",
      "0.66% done\n",
      "0.68% done\n",
      "0.7% done\n",
      "0.72% done\n",
      "0.74% done\n",
      "0.76% done\n",
      "0.78% done\n",
      "0.8% done\n",
      "0.82% done\n",
      "0.84% done\n",
      "0.86% done\n",
      "0.88% done\n",
      "0.9% done\n",
      "0.92% done\n",
      "0.94% done\n",
      "0.96% done\n",
      "0.98% done\n",
      "1.0% done\n"
     ]
    }
   ],
   "source": [
    "#print(event.hits[6].id) \n",
    "# nice! id matches position in hitlist\n",
    "num_events = len(all_considered_events)\n",
    "print(f'we look at {num_events} events \\n')\n",
    "\n",
    "all_particles = []\n",
    "for idx, event in enumerate(all_considered_events): \n",
    "    #noise_hits = event.hits.copy()\n",
    "    print(f'{idx/(num_events-1)}% done')\n",
    "    \n",
    "    for part in event.montecarlo.get('particles'):\n",
    "        temp_particle = particle(part, event)\n",
    "        all_particles = all_particles + [temp_particle]\n",
    "        #for hit in temp_particle.track:\n",
    "            #if noise_hits:\n",
    "                # implicitl asserting a hit only apears on one track\n",
    "                #noise_hits = noise_hits.remove(hit)\n",
    "\n",
    "    # no noise in here!\n",
    "    # print(noise_hits)\n"
   ]
  },
  {
   "cell_type": "code",
   "execution_count": 7,
   "metadata": {},
   "outputs": [
    {
     "name": "stdout",
     "output_type": "stream",
     "text": [
      "number of particles were looking at 16293\n"
     ]
    }
   ],
   "source": [
    "# Lets analyse angles of the particles (distribution of this)\n",
    "all_angles = []\n",
    "num_hits = []\n",
    "print(f'number of particles were looking at {len(all_particles)}')\n",
    "\n",
    "for particle in all_particles:\n",
    "    all_angles = all_angles + [particle.phi]\n",
    "    num_hits = num_hits + [len(particle.track)]"
   ]
  },
  {
   "cell_type": "code",
   "execution_count": 8,
   "metadata": {},
   "outputs": [],
   "source": [
    "import math\n",
    "\n",
    "def dotproduct(v1, v2):\n",
    "  return sum((a*b) for a, b in zip(v1, v2))\n",
    "\n",
    "def length(v):\n",
    "  return math.sqrt(dotproduct(v, v))\n",
    "\n",
    "def angle(v1, v2):\n",
    "  return math.acos(dotproduct(v1, v2) / (length(v1) * length(v2)))\n"
   ]
  },
  {
   "cell_type": "code",
   "execution_count": 9,
   "metadata": {},
   "outputs": [
    {
     "name": "stdout",
     "output_type": "stream",
     "text": [
      "[#21 module 1 {0.613, 32.812, -274.418}, #49 module 3 {0.594, 30.07, -249.418}, #76 module 5 {0.516, 27.347, -224.418}, #96 module 7 {0.484, 24.735, -200.58}, #117 module 9 {0.348, 16.587, -125.58}, #136 module 11 {0.186, 8.439, -50.58}]\n",
      "1.545\n"
     ]
    },
    {
     "ename": "NameError",
     "evalue": "name 'angle2' is not defined",
     "output_type": "error",
     "traceback": [
      "\u001b[0;31m---------------------------------------------------------------------------\u001b[0m",
      "\u001b[0;31mNameError\u001b[0m                                 Traceback (most recent call last)",
      "\u001b[0;32m<ipython-input-9-8cfd0f0b475d>\u001b[0m in \u001b[0;36m<module>\u001b[0;34m\u001b[0m\n\u001b[1;32m     23\u001b[0m     \u001b[0mv_hits\u001b[0m \u001b[0;34m=\u001b[0m \u001b[0;34m(\u001b[0m\u001b[0mhit_2\u001b[0m\u001b[0;34m.\u001b[0m\u001b[0mx\u001b[0m \u001b[0;34m-\u001b[0m \u001b[0mhit_1\u001b[0m\u001b[0;34m.\u001b[0m\u001b[0mx\u001b[0m\u001b[0;34m,\u001b[0m\u001b[0mhit_2\u001b[0m\u001b[0;34m.\u001b[0m\u001b[0my\u001b[0m \u001b[0;34m-\u001b[0m \u001b[0mhit_1\u001b[0m\u001b[0;34m.\u001b[0m\u001b[0my\u001b[0m\u001b[0;34m,\u001b[0m\u001b[0mhit_2\u001b[0m\u001b[0;34m.\u001b[0m\u001b[0mz\u001b[0m \u001b[0;34m-\u001b[0m \u001b[0mhit_1\u001b[0m\u001b[0;34m.\u001b[0m\u001b[0mz\u001b[0m \u001b[0;34m)\u001b[0m\u001b[0;34m\u001b[0m\u001b[0;34m\u001b[0m\u001b[0m\n\u001b[1;32m     24\u001b[0m     \u001b[0mprint\u001b[0m\u001b[0;34m(\u001b[0m\u001b[0mtemp_track\u001b[0m\u001b[0;34m.\u001b[0m\u001b[0mphi\u001b[0m\u001b[0;34m)\u001b[0m\u001b[0;34m\u001b[0m\u001b[0;34m\u001b[0m\u001b[0m\n\u001b[0;32m---> 25\u001b[0;31m     \u001b[0mprint\u001b[0m\u001b[0;34m(\u001b[0m\u001b[0mangle2\u001b[0m\u001b[0;34m(\u001b[0m\u001b[0mv_beam\u001b[0m\u001b[0;34m,\u001b[0m\u001b[0mv_hits\u001b[0m\u001b[0;34m)\u001b[0m\u001b[0;34m)\u001b[0m\u001b[0;34m\u001b[0m\u001b[0;34m\u001b[0m\u001b[0m\n\u001b[0m",
      "\u001b[0;31mNameError\u001b[0m: name 'angle2' is not defined"
     ]
    }
   ],
   "source": [
    "## need to check how phi is calculated\n",
    " \n",
    "# i think its the angle between two vectors, one is the beam line (0,0,1) vector and the second can be constructed\n",
    "# with 2 hits\n",
    "\n",
    "# can not solve the angle problem at the moment because we can not calc 360° angles in 3d space. dont know what the phi is\n",
    "\n",
    "# choose here any number to look at a particle\n",
    "temp_track = all_particles[2100]\n",
    "print(temp_track.track)\n",
    "#print(temp_track.fromBeautyDecay)\n",
    "#print(temp_track.fromCharmDecay)\n",
    "#print(temp_track.fromStrangeDecay)\n",
    "#print(temp_track.hasUT) #?\n",
    "#print(temp_track.hasScifi) #?\n",
    "\n",
    "# remarkable -> no decay and starts in module 45\n",
    "for i in range(len(temp_track.track)-2):\n",
    "    hit_1 = temp_track.track[i]\n",
    "    hit_2 = temp_track.track[i+1]\n",
    "    # assuming the track goes in direction of the z \n",
    "    v_beam = (0,0,1)\n",
    "    v_hits = (hit_2.x - hit_1.x,hit_2.y - hit_1.y,hit_2.z - hit_1.z )\n",
    "    print(temp_track.phi)\n",
    "    print(angle2(v_beam,v_hits))"
   ]
  },
  {
   "cell_type": "code",
   "execution_count": 20,
   "metadata": {},
   "outputs": [
    {
     "name": "stdout",
     "output_type": "stream",
     "text": [
      "0.3796108758362487\n"
     ]
    },
    {
     "data": {
      "text/plain": [
       "(array([ 20.,  13.,   8.,  12., 190., 178., 673., 670., 895., 825., 380.,\n",
       "        453., 479., 427., 525., 533., 545., 617., 634., 580., 510., 466.,\n",
       "        397., 395., 391., 390., 362., 333., 270., 279., 248., 256., 223.,\n",
       "        177., 193., 148., 181., 148., 244., 215., 297., 223., 287., 253.,\n",
       "        234., 228., 135., 107.,   8.,   5.,  13.,  20.]),\n",
       " array([ 0.        ,  0.98076923,  1.96153846,  2.94230769,  3.92307692,\n",
       "         4.90384615,  5.88461538,  6.86538462,  7.84615385,  8.82692308,\n",
       "         9.80769231, 10.78846154, 11.76923077, 12.75      , 13.73076923,\n",
       "        14.71153846, 15.69230769, 16.67307692, 17.65384615, 18.63461538,\n",
       "        19.61538462, 20.59615385, 21.57692308, 22.55769231, 23.53846154,\n",
       "        24.51923077, 25.5       , 26.48076923, 27.46153846, 28.44230769,\n",
       "        29.42307692, 30.40384615, 31.38461538, 32.36538462, 33.34615385,\n",
       "        34.32692308, 35.30769231, 36.28846154, 37.26923077, 38.25      ,\n",
       "        39.23076923, 40.21153846, 41.19230769, 42.17307692, 43.15384615,\n",
       "        44.13461538, 45.11538462, 46.09615385, 47.07692308, 48.05769231,\n",
       "        49.03846154, 50.01923077, 51.        ]),\n",
       " <BarContainer object of 52 artists>)"
      ]
     },
     "execution_count": 20,
     "metadata": {},
     "output_type": "execute_result"
    },
    {
     "data": {
      "image/png": "[encoded data removed]",
      "text/plain": [
       "<Figure size 432x288 with 1 Axes>"
      ]
     },
     "metadata": {
      "needs_background": "light"
     },
     "output_type": "display_data"
    }
   ],
   "source": [
    "################ getting the first and last hit of all the ###################\n",
    "# i define origin hit as the one with closest distance to z axis\n",
    "# i define the last hit as the one with furtherst distance from the z axis\n",
    "# i guess i only need to look at the first and last hit of one particle -> have not seen smth else\n",
    "min_hits = []\n",
    "max_hits = []\n",
    "count_reverse = 0\n",
    "for particle in all_particles:\n",
    "    hit1 = particle.track[0]    \n",
    "    hit2 = particle.track[-1]\n",
    "    \n",
    "    if math.sqrt(hit1.x**2 + hit1.y**2) < math.sqrt(hit2.x**2 + hit2.y**2):\n",
    "        min_hits = min_hits + [hit1]\n",
    "        max_hits = max_hits + [hit2]\n",
    "    else:\n",
    "        # this happens\n",
    "        min_hits = min_hits + [hit2]\n",
    "        max_hits = max_hits + [hit1]\n",
    "        count_reverse += 1\n",
    "    \n",
    "print(count_reverse/len(min_hits))\n",
    "############## hist the distr of closest and furthest hits #############\n",
    "\n",
    "plt.hist([hit.module_number for hit in min_hits], bins = 52)\n"
   ]
  },
  {
   "cell_type": "code",
   "execution_count": 21,
   "metadata": {},
   "outputs": [
    {
     "data": {
      "text/plain": [
       "(array([1996., 1853.,  162.,  173.,  156.,  165.,   86.,  107.,  259.,\n",
       "         203.,  287.,  230.,   96.,   96.,  104.,  119.,  116.,  117.,\n",
       "         126.,  132.,  143.,  173.,  167.,  172.,  184.,  193.,  184.,\n",
       "         163.,  167.,  173.,  187.,  178.,  207.,  161.,  167.,  144.,\n",
       "         282.,  263.,  350.,  355.,  348.,  349.,  277.,  249.,  134.,\n",
       "         133.,  118.,  123.,  122.,  126., 1919., 1799.]),\n",
       " array([ 0.        ,  0.98076923,  1.96153846,  2.94230769,  3.92307692,\n",
       "         4.90384615,  5.88461538,  6.86538462,  7.84615385,  8.82692308,\n",
       "         9.80769231, 10.78846154, 11.76923077, 12.75      , 13.73076923,\n",
       "        14.71153846, 15.69230769, 16.67307692, 17.65384615, 18.63461538,\n",
       "        19.61538462, 20.59615385, 21.57692308, 22.55769231, 23.53846154,\n",
       "        24.51923077, 25.5       , 26.48076923, 27.46153846, 28.44230769,\n",
       "        29.42307692, 30.40384615, 31.38461538, 32.36538462, 33.34615385,\n",
       "        34.32692308, 35.30769231, 36.28846154, 37.26923077, 38.25      ,\n",
       "        39.23076923, 40.21153846, 41.19230769, 42.17307692, 43.15384615,\n",
       "        44.13461538, 45.11538462, 46.09615385, 47.07692308, 48.05769231,\n",
       "        49.03846154, 50.01923077, 51.        ]),\n",
       " <BarContainer object of 52 artists>)"
      ]
     },
     "execution_count": 21,
     "metadata": {},
     "output_type": "execute_result"
    },
    {
     "data": {
      "image/png": "[encoded data removed]",
      "text/plain": [
       "<Figure size 432x288 with 1 Axes>"
      ]
     },
     "metadata": {
      "needs_background": "light"
     },
     "output_type": "display_data"
    }
   ],
   "source": [
    "plt.hist([hit.module_number for hit in max_hits], bins = 52)"
   ]
  },
  {
   "cell_type": "code",
   "execution_count": 82,
   "metadata": {},
   "outputs": [
    {
     "name": "stdout",
     "output_type": "stream",
     "text": [
      "16293\n",
      "beam_crossing\n",
      "775\n",
      "0.04756643957527772\n",
      "no_co\n",
      "16280\n",
      "0.9992021113361567\n"
     ]
    }
   ],
   "source": [
    "################ checking how many tracks cross the beam line ##################\n",
    "################ also checking how many tracks dont have consecutive triplets ##########\n",
    "# the consecutive thing is really not nice\n",
    "beam_crossing_particles = []\n",
    "no_cosecutive_triplet = []\n",
    "\n",
    "# id say we have a beam cross if either x or y change sign among hits\n",
    "for particle in all_particles:\n",
    "    x_p, x_n, y_p, y_n, = False, False, False, False\n",
    "    triplet = 0\n",
    "    last_module = -2\n",
    "    for hit in particle.track:\n",
    "        x_p = hit.x >0 or x_p\n",
    "        x_n = hit.x <0 or x_n\n",
    "        y_p = hit.y >0 or y_p\n",
    "        y_n = hit.y <0 or y_n\n",
    "        \n",
    "        if triplet < 3:\n",
    "            if hit.module_number == last_module + 1: #in (last_module + 1,last_module + 2):\n",
    "                triplet += 1\n",
    "                last_module = hit.module_number\n",
    "            else:\n",
    "                triplet = 1\n",
    "                last_module = hit.module_number\n",
    "                \n",
    "    if x_p + x_n + y_p + y_n > 2:\n",
    "        beam_crossing_particles = beam_crossing_particles + [particle]\n",
    "    if triplet < 3:\n",
    "        no_cosecutive_triplet = no_cosecutive_triplet + [particle]\n",
    "print(len(all_particles))\n",
    "print('beam_crossing')\n",
    "print(len(beam_crossing_particles))\n",
    "print(len(beam_crossing_particles)/len(all_particles))\n",
    "print('no_co')\n",
    "print(len(no_cosecutive_triplet))\n",
    "print(len(no_cosecutive_triplet)/len(all_particles))\n",
    "\n",
    "\n",
    "# 5% of the tracks seem to cross the line"
   ]
  },
  {
   "cell_type": "code",
   "execution_count": 74,
   "metadata": {},
   "outputs": [
    {
     "name": "stdout",
     "output_type": "stream",
     "text": [
      "977\n"
     ]
    }
   ],
   "source": [
    "decay = 0\n",
    "for particle in all_particles:\n",
    "    if particle.is_decay:\n",
    "        decay +=1\n",
    "print(decay)"
   ]
  },
  {
   "cell_type": "code",
   "execution_count": 75,
   "metadata": {},
   "outputs": [
    {
     "name": "stdout",
     "output_type": "stream",
     "text": [
      "132\n"
     ]
    }
   ],
   "source": [
    "decay = 0\n",
    "for particle in beam_crossing_particles:\n",
    "    if particle.is_decay:\n",
    "        decay +=1\n",
    "print(decay)"
   ]
  },
  {
   "cell_type": "code",
   "execution_count": 87,
   "metadata": {},
   "outputs": [
    {
     "data": {
      "text/plain": [
       "[#1667 module 34 {-0.367, -13.98, 236.919},\n",
       " #1768 module 36 {0.268, -21.622, 261.919},\n",
       " #1915 module 38 {1.642, -36.972, 313.081}]"
      ]
     },
     "execution_count": 87,
     "metadata": {},
     "output_type": "execute_result"
    }
   ],
   "source": [
    "beam_crossing_particles[20].track"
   ]
  },
  {
   "cell_type": "code",
   "execution_count": 16,
   "metadata": {},
   "outputs": [
    {
     "data": {
      "image/png": "[encoded data removed]",
      "text/plain": [
       "<Figure size 432x288 with 1 Axes>"
      ]
     },
     "metadata": {
      "needs_background": "light"
     },
     "output_type": "display_data"
    }
   ],
   "source": [
    "import numpy as np\n",
    "import matplotlib.pyplot as plt\n",
    "\n",
    "############### I cant tell if this plots the angles correctly #########\n",
    "# I think its correct because we get such a nice distribution\n",
    "\n",
    "bins_number = 20  # the [0, 360) interval will be subdivided into this\n",
    "# number of equal bins\n",
    "bins = np.linspace(0.0, 2 * np.pi, bins_number + 1)\n",
    "angles = [(np.pi + angle) for angle in all_angles]\n",
    "n, _, _ = plt.hist(angles, bins)\n",
    "\n",
    "plt.clf()\n",
    "width = 2 * np.pi / bins_number\n",
    "ax = plt.subplot(1, 1, 1, projection='polar')\n",
    "bars = ax.bar(bins[:bins_number], n, width=width, bottom=0.0)\n",
    "for bar in bars:\n",
    "    bar.set_alpha(0.5)\n",
    "plt.show()"
   ]
  }
 ],
 "metadata": {
  "kernelspec": {
   "display_name": "Python 3",
   "language": "python",
   "name": "python3"
  },
  "language_info": {
   "codemirror_mode": {
    "name": "ipython",
    "version": 3
   },
   "file_extension": ".py",
   "mimetype": "text/x-python",
   "name": "python",
   "nbconvert_exporter": "python",
   "pygments_lexer": "ipython3",
   "version": "3.8.5"
  }
 },
 "nbformat": 4,
 "nbformat_minor": 2
}
