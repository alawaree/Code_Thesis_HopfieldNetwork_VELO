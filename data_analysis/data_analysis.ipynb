{
 "metadata": {
  "language_info": {
   "codemirror_mode": {
    "name": "ipython",
    "version": 3
   },
   "file_extension": ".py",
   "mimetype": "text/x-python",
   "name": "python",
   "nbconvert_exporter": "python",
   "pygments_lexer": "ipython3",
   "version": "3.8.5-final"
  },
  "orig_nbformat": 2,
  "kernelspec": {
   "name": "python3",
   "display_name": "Python 3.8.5 64-bit (conda)",
   "metadata": {
    "interpreter": {
     "hash": "dca0ade3e726a953b501b15e8e990130d2b7799f14cfd9f4271676035ebe5511"
    }
   }
  }
 },
 "nbformat": 4,
 "nbformat_minor": 2,
 "cells": [
  {
   "cell_type": "code",
   "execution_count": 62,
   "metadata": {},
   "outputs": [],
   "source": [
    "# get the relevant dependencies \n",
    "import json\n",
    "import os\n",
    "import sys \n",
    "module_path = os.path.abspath(os.path.join('..'))\n",
    "if module_path not in sys.path:\n",
    "    sys.path.append(module_path)\n",
    "from event_model import event_model as em\n",
    "\n"
   ]
  },
  {
   "cell_type": "code",
   "execution_count": 131,
   "metadata": {},
   "outputs": [],
   "source": [
    "# read in the events -> from the folder choosen \n",
    "all_considered_events = []\n",
    "\n",
    "# here we could plug in the events from cern that we got send i would actually like to do that\n",
    "for (dirpath, dirnames, filenames) in os.walk(os.path.abspath(os.path.join('..', 'events'))):\n",
    "  for i, filename in enumerate(filenames):\n",
    "    # Get an event\n",
    "    f = open(os.path.realpath(os.path.join(dirpath, filename)))\n",
    "    json_data = json.loads(f.read())\n",
    "    all_considered_events = all_considered_events + [em.event(json_data)]\n",
    "    f.close()\n"
   ]
  },
  {
   "cell_type": "code",
   "execution_count": 76,
   "metadata": {},
   "outputs": [
    {
     "output_type": "stream",
     "name": "stdout",
     "text": [
      "-1.1619999999999777\n52\n"
     ]
    }
   ],
   "source": [
    "# is the distance beween the parts of 1 module always the same?\n",
    "event = all_considered_events[0] # take the first of the elements for this check\n",
    "\n",
    "event.module_zs\n",
    "for module in event.module_zs:\n",
    "    print(list(module)[0]-list(module)[1])\n",
    "    # pretty damn the same\n",
    "    break\n",
    "print(len(event.module_zs)) # -> 52 modules with two parts always\n",
    "    "
   ]
  },
  {
   "cell_type": "code",
   "execution_count": 115,
   "metadata": {},
   "outputs": [],
   "source": [
    "# particle class to properly handle the real tracks -> might want to plot angles where we see the highest density\n",
    "class particle(object):\n",
    "    def __init__(self, particle, event):\n",
    "        self.key = particle[0]\n",
    "        self.pid = particle[1]\n",
    "        self.p = particle[2]\n",
    "        self.pt = particle[3]\n",
    "        self.eta = particle[4]\n",
    "        self.phi = particle[5]\n",
    "        self.isLong = particle[6]\n",
    "        self.isDown = particle[7]\n",
    "        self.hasVelo = particle[8]\n",
    "        self.hasUT = particle[9]\n",
    "        self.hasScifi = particle[10]\n",
    "        self.fromBeautyDecay = particle[11]\n",
    "        self.fromCharmDecay = particle[12]\n",
    "        self.fromStrangeDecay = particle[13]\n",
    "        self.charge = particle[14]\n",
    "        self.hits = particle[15]\n",
    "        self.track = [hit for hit in event.hits if hit.id in self.hits]"
   ]
  },
  {
   "cell_type": "code",
   "execution_count": 132,
   "metadata": {},
   "outputs": [],
   "source": [
    "#print(event.hits[6].id) \n",
    "# nice! id matches position in hitlist\n",
    "\n",
    "for event in all_considered_events: \n",
    "    noise_hits = event.hits.copy()\n",
    "    all_particles = []\n",
    "    for part in event.montecarlo.get('particles'):\n",
    "        temp_particle = particle(part, event)\n",
    "        all_particles = all_particles + [temp_particle]\n",
    "        for hit in temp_particle.track:\n",
    "            if noise_hits:\n",
    "                # implicitl asserting a hit only apears on one track\n",
    "                noise_hits = noise_hits.remove(hit)\n",
    "\n",
    "    # no noise in here!\n",
    "    # print(noise_hits)\n"
   ]
  },
  {
   "cell_type": "code",
   "execution_count": 140,
   "metadata": {},
   "outputs": [
    {
     "output_type": "stream",
     "name": "stdout",
     "text": [
      "number of particles were looking at 134\n"
     ]
    }
   ],
   "source": [
    "# Lets analyse angles of the particles (distribution of this)\n",
    "all_angles = []\n",
    "num_hits = []\n",
    "print(f'number of particles were looking at {len(all_particles)}')\n",
    "\n",
    "for particle in all_particles:\n",
    "    all_angles = all_angles + [particle.phi]\n",
    "    num_hits = num_hits + [len(particle.track)]\n"
   ]
  },
  {
   "cell_type": "code",
   "execution_count": 142,
   "metadata": {},
   "outputs": [
    {
     "output_type": "stream",
     "name": "stdout",
     "text": [
      "[-0.195, 2.452, -1.73, 2.321, 1.638, 2.683, 1.751, -2.464, -3.116, -2.78, 3.05, -1.864, -1.884, -0.419, -0.873, -2.738, 1.419, 2.142, 1.363, 1.009, -2.968, -0.741, -2.58, -1.098, -2.292, 0.521, -1.461, 1.483, -1.771, 2.18, 2.09, -0.461, -2.401, -1.29, 2.333, 2.301, -0.301, 2.324, 2.325, 2.369, 2.309, 2.335, 1.204, -0.838, -2.377, 2.461, -1.402, 3.02, -2.606, -0.993, -0.743, -0.728, 1.584, 1.579, 1.791, -1.677, -2.042, -2.583, 0.325, 2.95, -0.668, 1.726, 2.783, 2.079, 1.858, 1.454, 2.605, -1.873, 2.162, -1.255, -1.322, 0.576, 2.683, 2.812, 0.384, -1.364, 2.386, 2.824, -0.034, 2.606, 2.82, -2.644, 2.617, 0.201, -0.235, -0.322, 1.969, -1.68, 1.725, 0.575, 2.423, -2.191, -1.02, 2.85, 1.23, -1.501, -0.806, 2.413, 2.935, 0.706, 2.192, 2.989, -1.469, -0.4, -2.445, -1.127, 0.637, -0.469, -3.108, 2.508, -2.968, 1.305, 2.07, -2.654, 2.616, -1.116, -0.24, 0.154, 0.05, 3.111, 2.381, 2.005, 2.009, -0.709, -0.521, -0.219, -0.18, -0.491, -1.304, 2.002, 3.052, 0.903, -1.308, -1.227]\n[7, 9, 12, 3, 10, 6, 4, 6, 6, 4, 6, 4, 4, 7, 5, 4, 3, 4, 3, 4, 8, 11, 8, 12, 3, 3, 8, 8, 3, 5, 4, 4, 10, 4, 6, 10, 3, 3, 4, 3, 3, 5, 5, 5, 6, 7, 7, 6, 3, 4, 4, 4, 3, 3, 5, 12, 12, 14, 3, 4, 5, 5, 3, 5, 5, 3, 3, 7, 4, 4, 5, 4, 5, 9, 8, 10, 10, 6, 8, 9, 6, 5, 9, 5, 7, 10, 10, 10, 6, 5, 3, 5, 8, 6, 5, 8, 3, 9, 10, 3, 4, 5, 4, 5, 8, 5, 5, 6, 7, 7, 10, 9, 6, 11, 4, 8, 4, 7, 6, 6, 7, 4, 4, 6, 10, 6, 6, 3, 4, 8, 6, 10, 5, 5]\n"
     ]
    }
   ],
   "source": [
    "print(all_angles)\n",
    "print(num_hits)"
   ]
  },
  {
   "cell_type": "code",
   "execution_count": 148,
   "metadata": {},
   "outputs": [
    {
     "output_type": "error",
     "ename": "AttributeError",
     "evalue": "module 'matplotlib.pyplot' has no attribute 'histogram'",
     "traceback": [
      "\u001b[0;31m---------------------------------------------------------------------------\u001b[0m",
      "\u001b[0;31mAttributeError\u001b[0m                            Traceback (most recent call last)",
      "\u001b[0;32m<ipython-input-148-1fbbc9f84e7a>\u001b[0m in \u001b[0;36m<module>\u001b[0;34m\u001b[0m\n\u001b[1;32m      1\u001b[0m \u001b[0;32mimport\u001b[0m \u001b[0mnumpy\u001b[0m \u001b[0;32mas\u001b[0m \u001b[0mnp\u001b[0m\u001b[0;34m\u001b[0m\u001b[0;34m\u001b[0m\u001b[0m\n\u001b[1;32m      2\u001b[0m \u001b[0;32mimport\u001b[0m \u001b[0mmatplotlib\u001b[0m\u001b[0;34m.\u001b[0m\u001b[0mpyplot\u001b[0m \u001b[0;32mas\u001b[0m \u001b[0mplt\u001b[0m\u001b[0;34m\u001b[0m\u001b[0;34m\u001b[0m\u001b[0m\n\u001b[0;32m----> 3\u001b[0;31m \u001b[0mplt\u001b[0m\u001b[0;34m.\u001b[0m\u001b[0mhistogram\u001b[0m\u001b[0;34m(\u001b[0m\u001b[0mnum_hits\u001b[0m\u001b[0;34m)\u001b[0m\u001b[0;34m\u001b[0m\u001b[0;34m\u001b[0m\u001b[0m\n\u001b[0m",
      "\u001b[0;31mAttributeError\u001b[0m: module 'matplotlib.pyplot' has no attribute 'histogram'"
     ]
    }
   ],
   "source": [
    "import numpy as np\n",
    "import matplotlib.pyplot as plt\n",
    "#plt.histogram(num_hits)"
   ]
  }
 ]
}