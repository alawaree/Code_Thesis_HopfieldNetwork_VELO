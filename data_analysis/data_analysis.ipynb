{
 "cells": [
  {
   "attachments": {},
   "cell_type": "markdown",
   "metadata": {},
   "source": [
    "# Data analysis\n",
    "From MRP but modified."
   ]
  },
  {
   "cell_type": "code",
   "execution_count": 2,
   "metadata": {},
   "outputs": [],
   "source": [
    "# Initialization\n",
    "# 1. Get the relevant dependencies \n",
    "import json\n",
    "import os\n",
    "import sys \n",
    "import random\n",
    "import math\n",
    "import numpy as np\n",
    "import pandas as pd\n",
    "import inspect\n",
    "import os.path\n",
    "import matplotlib.pyplot as plt\n",
    "\n",
    "module_path = os.path.abspath(os.path.join('..'))\n",
    "if module_path not in sys.path:\n",
    "    sys.path.append(module_path)\n",
    "\n",
    "from event_model import event_model as em\n",
    "\n",
    "# resource switch\n",
    "dataset={\n",
    "    'small':'datasets/small_dataset',\n",
    "    'bsphiphi': 'datasets/bsphiphi',\n",
    "    'minibias': 'datasets/minibias'\n",
    "}\n"
   ]
  },
  {
   "cell_type": "code",
   "execution_count": 3,
   "metadata": {},
   "outputs": [],
   "source": [
    "# analysis variables\n",
    "DATASET = 'bsphiphi'\n",
    "load_percent = 0.5\n",
    "shuffle = True"
   ]
  },
  {
   "cell_type": "code",
   "execution_count": 4,
   "metadata": {},
   "outputs": [
    {
     "name": "stdout",
     "output_type": "stream",
     "text": [
      "successfully loaded 500 events from bsphiphi\n"
     ]
    }
   ],
   "source": [
    "# read in the events -> from the folder choosen \n",
    "loaded_events = []\n",
    "for (dirpath, dirnames, filenames) in os.walk(os.path.abspath(os.path.join('..', dataset[DATASET]))):\n",
    "    if shuffle:\n",
    "        random.shuffle(filenames)\n",
    "\n",
    "    for i, filename in enumerate(filenames):\n",
    "        # Get an event\n",
    "        f = open(os.path.realpath(os.path.join(dirpath, filename)))\n",
    "        json_data = json.loads(f.read())\n",
    "        loaded_events = loaded_events + [em.event(json_data)]\n",
    "        f.close()\n",
    "        \n",
    "        if i == int(load_percent * len(filenames)):\n",
    "            print(f'successfully loaded {i} events from {DATASET}')\n",
    "            break\n"
   ]
  },
  {
   "attachments": {},
   "cell_type": "markdown",
   "metadata": {},
   "source": [
    "## Check about the distance between the modules etc."
   ]
  },
  {
   "cell_type": "code",
   "execution_count": 5,
   "metadata": {},
   "outputs": [
    {
     "name": "stdout",
     "output_type": "stream",
     "text": [
      "{-288.08, -286.918}\n",
      "-1.1619999999999777\n",
      "{-288.08, -286.918}\n",
      "52\n"
     ]
    }
   ],
   "source": [
    "# is the distance beween the parts of one module always the same?\n",
    "# is this the thickness of the module (why are there some hits on one side and some on the othere?)\n",
    "\n",
    "event = loaded_events[2] # take the first of the elements for this check\n",
    "\n",
    "event.module_zs\n",
    "for module in event.module_zs:\n",
    "    print(module)\n",
    "    print(list(module)[0]-list(module)[1])\n",
    "    #print(module.hits)\n",
    "    # pretty damn the same\n",
    "    # distance 1.16\n",
    "    # lets check how many hits might be affected\n",
    "    print(module)\n",
    "    break\n",
    "print(len(event.module_zs)) # -> 52 modules with two parts always\n",
    "    "
   ]
  },
  {
   "cell_type": "code",
   "execution_count": 6,
   "metadata": {},
   "outputs": [],
   "source": [
    "# Creation of an csv files with the modules positions and distances\n",
    "coordinates = []\n",
    "distances = []\n",
    "last = -288.080\n",
    "for i,module in enumerate(event.module_zs):\n",
    "    min_module = min(module)\n",
    "    coordinates.append(min_module)\n",
    "    distances.append(coordinates[-1]-(last))\n",
    "    last = coordinates[-1]\n",
    "df = pd.DataFrame([coordinates, distances])\n",
    "#df.to_csv('module_positions_and_distaces.csv', index=False)\n",
    "\n",
    "#If bug: #Debugging with 'del min'"
   ]
  },
  {
   "attachments": {},
   "cell_type": "markdown",
   "metadata": {},
   "source": [
    "## Visualisation of the \"left and the right\" hits"
   ]
  },
  {
   "cell_type": "code",
   "execution_count": 7,
   "metadata": {},
   "outputs": [
    {
     "data": {
      "image/png": "[encoded data removed]",
      "text/plain": [
       "<Figure size 720x720 with 1 Axes>"
      ]
     },
     "metadata": {
      "needs_background": "light"
     },
     "output_type": "display_data"
    }
   ],
   "source": [
    "# Visualisation of the left and the right hits\n",
    "# All hits that happend on the z-axis are \"bring back together\" in one dimension\n",
    "\n",
    "left_hits = []   \n",
    "right_hits = []\n",
    "\n",
    "for module_number in range(52):\n",
    "    l1 = min(event.modules[module_number].z)    \n",
    "    # take the smallest z coordinate of each module (l1 is the small one but l2 could be the large one by for example doing max instead of min)\n",
    "    # the hits put in the 'left_hits' are the ones happening in the smallest z\n",
    "    # the hits put in the 'right_hits' are the ones happening in the largest z \n",
    "    # the smallest is on the left side and the largest is on the right side (for each module) > why ???\n",
    "    hit_coords = np.zeros(shape=(2,len(event.modules[module_number].hits())))\n",
    "    is_left = []\n",
    "    \n",
    "    for i, hit in enumerate(event.modules[module_number].hits()):\n",
    "        hit_coords[0,i] = hit.x\n",
    "        hit_coords[1,i] = hit.y\n",
    "        is_left.append(hit.z==l1)\n",
    "\n",
    "    left_hits.append(hit_coords[:,is_left])    \n",
    "    right_hits.append(hit_coords[:,[not e for e in is_left]])    \n",
    "\n",
    "\n",
    "\n",
    "left_hits = np.concatenate(left_hits, axis=1)\n",
    "right_hits = np.concatenate(right_hits, axis=1)\n",
    "fig = plt.figure(figsize=(10,10))\n",
    "ax1 = fig.add_subplot(111)\n",
    "\n",
    "\n",
    "ax1.scatter(left_hits[0,:], left_hits[1,:], s=5, c='b', marker=\"s\", label='L-hits')\n",
    "ax1.scatter(right_hits[0,:], right_hits[1,:], s=5, c='r', marker=\"s\", label='R-hits')\n",
    "ax1.legend()\n",
    "ax1.set_title('Projection of all hits of one event into the X,Y plane\\n coloured by wether the hit is on the left or right coordinate of a module')\n",
    "plt.show()"
   ]
  },
  {
   "cell_type": "code",
   "execution_count": 8,
   "metadata": {},
   "outputs": [
    {
     "data": {
      "image/png": "[encoded data removed]",
      "text/plain": [
       "<Figure size 720x720 with 1 Axes>"
      ]
     },
     "metadata": {
      "needs_background": "light"
     },
     "output_type": "display_data"
    }
   ],
   "source": [
    "# Visualisation of the postitive and negative x left and the right hits\n",
    "\n",
    "x_positive_hits = []   \n",
    "x_negative_hits = []\n",
    "\n",
    "for module_number in range(52):\n",
    "\n",
    "    hit_coords = np.zeros(shape=(2,len(event.modules[module_number].hits())))\n",
    "    x_is_positive = []\n",
    "    \n",
    "    for i, hit in enumerate(event.modules[module_number].hits()):\n",
    "        hit_coords[0,i] = hit.x\n",
    "        hit_coords[1,i] = hit.y\n",
    "        x_is_positive.append(hit.x > 0)\n",
    "    \n",
    "\n",
    "    x_positive_hits.append(hit_coords[:,x_is_positive])    \n",
    "    x_negative_hits.append(hit_coords[:,[not e for e in x_is_positive]])    \n",
    "\n",
    "\n",
    "x_positive_hits = np.concatenate(x_positive_hits, axis=1)\n",
    "x_negative_hits = np.concatenate(x_negative_hits, axis=1)\n",
    "fig = plt.figure(figsize=(10,10))\n",
    "ax1 = fig.add_subplot(111)\n",
    "\n",
    "\n",
    "ax1.scatter(x_positive_hits[0,:], x_positive_hits[1,:], s=5, c='b', marker=\"s\", label='Positive-hits')\n",
    "ax1.scatter(x_negative_hits[0,:], x_negative_hits[1,:], s=5, c='r', marker=\"s\", label='Negative-hits')\n",
    "ax1.legend()\n",
    "ax1.set_title('Projection of all hits of one event into the X,Y plane\\n coloured by wether the hit is on the left or right coordinate of a module')\n",
    "plt.show()"
   ]
  },
  {
   "attachments": {},
   "cell_type": "markdown",
   "metadata": {},
   "source": [
    "## Visualisation of the postitive and negative x coordinates depending on the modules numbering\n",
    "### NB: All hits that happend on the z-axis are \"bring back together\" in one dimension"
   ]
  },
  {
   "cell_type": "code",
   "execution_count": 9,
   "metadata": {},
   "outputs": [
    {
     "data": {
      "image/png": "[encoded data removed]",
      "text/plain": [
       "<Figure size 720x720 with 1 Axes>"
      ]
     },
     "metadata": {
      "needs_background": "light"
     },
     "output_type": "display_data"
    }
   ],
   "source": [
    "x_hits_odd = []   \n",
    "x_hits_even = []\n",
    "\n",
    "for module_number in range(52):\n",
    "\n",
    "    hit_coords = np.zeros(shape=(2,len(event.modules[module_number].hits())))\n",
    "    \n",
    "    if module_number % 2 == 1: #odd\n",
    "        for i, hit in enumerate(event.modules[module_number].hits()):\n",
    "            hit_coords[0,i] = hit.x\n",
    "            hit_coords[1,i] = hit.y\n",
    "\n",
    "            x_hits_odd.append(hit_coords)\n",
    "    else:                       #even\n",
    "        for i, hit in enumerate(event.modules[module_number].hits()):\n",
    "            hit_coords[0,i] = hit.x\n",
    "            hit_coords[1,i] = hit.y\n",
    "            x_hits_even.append(hit_coords)\n",
    "\n",
    "\n",
    "x_hits_odd = np.concatenate(x_hits_odd, axis=1)\n",
    "x_hits_even = np.concatenate(x_hits_even, axis=1)\n",
    "\n",
    "\n",
    "plt.figure(figsize=(10,10))\n",
    "plt.scatter(x_hits_odd[0,:], x_hits_odd[1,:], s=5, c='b', marker=\"s\", label='Hits in odd modules')\n",
    "plt.scatter(x_hits_even[0,:], x_hits_even[1,:], s=5, c='g', marker=\"s\", label='Hits in even modules')\n",
    "plt.axvline(x=0, color='red', linestyle='--')\n",
    "plt.legend()\n",
    "plt.title('Projection of all hits of one event into the X,Y plane\\n coloured by wether the hit happened on the odd or even module')\n",
    "plt.show()\n",
    "\n"
   ]
  },
  {
   "attachments": {},
   "cell_type": "markdown",
   "metadata": {},
   "source": [
    "## Creation of a class 'particle'"
   ]
  },
  {
   "cell_type": "code",
   "execution_count": 10,
   "metadata": {},
   "outputs": [],
   "source": [
    "# particle class to properly handle the real tracks -> might want to plot angles where we see the highest density\n",
    "class particle(object):\n",
    "    def __init__(self, particle, event):\n",
    "        self.key = particle[0]\n",
    "        self.pid = particle[1]\n",
    "        self.p = particle[2]\n",
    "        self.pt = particle[3]\n",
    "        self.eta = particle[4]\n",
    "        self.phi = particle[5]\n",
    "        self.isLong = particle[6]\n",
    "        self.isDown = particle[7]\n",
    "        self.hasVelo = particle[8]\n",
    "        self.hasUT = particle[9]\n",
    "        self.hasScifi = particle[10]\n",
    "        self.fromBeautyDecay = particle[11]\n",
    "        self.fromCharmDecay = particle[12]\n",
    "        self.fromStrangeDecay = particle[13]\n",
    "        self.charge = particle[14]\n",
    "        self.hits = particle[15]\n",
    "        self.track = [hit for hit in event.hits if hit.id in self.hits]\n",
    "        self.is_decay = any([particle[11], particle[12], particle[13]])\n",
    "        self.is_noise = len(self.track) < 3\n",
    "        # compare dist of 2 points to center\n",
    "        #self.left_to_right = (math.sqrt(self.track[0].x**2 * self.track[0].y**2) < math.sqrt(self.track[1].x**2 * self.track[1].y**2))\n"
   ]
  },
  {
   "cell_type": "code",
   "execution_count": 11,
   "metadata": {},
   "outputs": [],
   "source": [
    "def give_track_coords(particle):\n",
    "    coords = np.zeros(shape=(3,len(particle.track)))\n",
    "    for i, hit in enumerate(particle.track):\n",
    "        coords[0,i] = hit.x\n",
    "        coords[1,i] = hit.y \n",
    "        coords[2,i] = hit.z\n",
    "    return coords"
   ]
  },
  {
   "cell_type": "code",
   "execution_count": 12,
   "metadata": {},
   "outputs": [],
   "source": [
    "all_event_particles = []\n",
    "hits_from_particles = []\n",
    "hits_noise = []\n",
    "\n",
    "all_track_hits = []\n",
    "\n",
    "for i,event in enumerate(loaded_events[:10]):\n",
    "    for part in event.montecarlo.get('particles'):\n",
    "        temp_particle = particle(part, event)\n",
    "        all_event_particles = all_event_particles + [temp_particle]\n",
    "        \n",
    "        for hit in temp_particle.track:\n",
    "            hits_from_particles.append(hit.id) #give a list of the id of all hits that happen in a particle track\n",
    "\n",
    "        all_track_hits = all_track_hits + temp_particle.track\n",
    "\n"
   ]
  },
  {
   "cell_type": "code",
   "execution_count": 13,
   "metadata": {},
   "outputs": [],
   "source": [
    "for module_number in range(52):\n",
    "\n",
    "    hit_coords = np.zeros(shape=(2,len(event.modules[module_number].hits())))\n",
    "    x_is_positive = []\n",
    "    \n",
    "    for i, hit in enumerate(event.modules[module_number].hits()):\n",
    "        hit_coords[0,i] = hit.x\n",
    "        hit_coords[1,i] = hit.y\n",
    "        x_is_positive.append(hit.x > 0)"
   ]
  },
  {
   "cell_type": "code",
   "execution_count": 14,
   "metadata": {},
   "outputs": [
    {
     "name": "stdout",
     "output_type": "stream",
     "text": [
      "['__class__', '__delattr__', '__dict__', '__dir__', '__doc__', '__eq__', '__format__', '__ge__', '__getattribute__', '__gt__', '__hash__', '__init__', '__init_subclass__', '__le__', '__lt__', '__module__', '__ne__', '__new__', '__reduce__', '__reduce_ex__', '__repr__', '__setattr__', '__sizeof__', '__str__', '__subclasshook__', '__weakref__', 'description', 'hits', 'module_prefix_sum', 'module_zs', 'modules', 'montecarlo', 'number_of_hits', 'number_of_modules', 'real_tracks']\n"
     ]
    }
   ],
   "source": [
    "print(dir(loaded_events[1]))"
   ]
  },
  {
   "cell_type": "code",
   "execution_count": 15,
   "metadata": {},
   "outputs": [
    {
     "name": "stdout",
     "output_type": "stream",
     "text": [
      "<event_model.event_model.event object at 0x000001BF01AD0B80>\n"
     ]
    },
    {
     "ename": "TypeError",
     "evalue": "'event' object is not iterable",
     "output_type": "error",
     "traceback": [
      "\u001b[1;31m---------------------------------------------------------------------------\u001b[0m",
      "\u001b[1;31mTypeError\u001b[0m                                 Traceback (most recent call last)",
      "\u001b[1;32m<ipython-input-15-ea09d759a433>\u001b[0m in \u001b[0;36m<module>\u001b[1;34m\u001b[0m\n\u001b[0;32m      2\u001b[0m     \u001b[0mevent_2\u001b[0m \u001b[1;33m=\u001b[0m \u001b[0mevent\u001b[0m\u001b[1;33m\u001b[0m\u001b[1;33m\u001b[0m\u001b[0m\n\u001b[0;32m      3\u001b[0m     \u001b[0mprint\u001b[0m\u001b[1;33m(\u001b[0m\u001b[0mevent_2\u001b[0m\u001b[1;33m)\u001b[0m\u001b[1;33m\u001b[0m\u001b[1;33m\u001b[0m\u001b[0m\n\u001b[1;32m----> 4\u001b[1;33m     \u001b[1;32mfor\u001b[0m \u001b[0mhits\u001b[0m \u001b[1;32min\u001b[0m \u001b[0mevent_2\u001b[0m\u001b[1;33m:\u001b[0m\u001b[1;33m\u001b[0m\u001b[1;33m\u001b[0m\u001b[0m\n\u001b[0m\u001b[0;32m      5\u001b[0m         \u001b[0mprint\u001b[0m\u001b[1;33m(\u001b[0m\u001b[0mhits\u001b[0m\u001b[1;33m)\u001b[0m\u001b[1;33m\u001b[0m\u001b[1;33m\u001b[0m\u001b[0m\n\u001b[0;32m      6\u001b[0m \u001b[1;33m\u001b[0m\u001b[0m\n",
      "\u001b[1;31mTypeError\u001b[0m: 'event' object is not iterable"
     ]
    }
   ],
   "source": [
    "\n",
    "for event in loaded_events[:10]:\n",
    "    event_2 = event\n",
    "    print(event_2)\n",
    "    for hits in event_2:\n",
    "        print(hits)\n",
    "\n"
   ]
  },
  {
   "cell_type": "code",
   "execution_count": 18,
   "metadata": {},
   "outputs": [
    {
     "name": "stdout",
     "output_type": "stream",
     "text": [
      "2039\n"
     ]
    }
   ],
   "source": [
    "level0=loaded_events[1] #select an event\n",
    "level1= level0.hits[1] #select a hit\n",
    "level2 = level1.id #select the hit id\n",
    "\n",
    "#print(level2)\n",
    "test =[]\n",
    "\n",
    "for i,event in enumerate(loaded_events[:10]):\n",
    "    for module_number in range(52):\n",
    "        for i, hit in enumerate(event.modules[module_number].hits()):\n",
    "            test2 = hit.id\n",
    "\n",
    "print(test2)\n"
   ]
  },
  {
   "cell_type": "code",
   "execution_count": null,
   "metadata": {},
   "outputs": [
    {
     "ename": "SyntaxError",
     "evalue": "invalid syntax (<ipython-input-35-d933ee4261c3>, line 6)",
     "output_type": "error",
     "traceback": [
      "\u001b[1;36m  File \u001b[1;32m\"<ipython-input-35-d933ee4261c3>\"\u001b[1;36m, line \u001b[1;32m6\u001b[0m\n\u001b[1;33m    hits.append(loaded_events[i].(x, y, z, hid))\u001b[0m\n\u001b[1;37m                                 ^\u001b[0m\n\u001b[1;31mSyntaxError\u001b[0m\u001b[1;31m:\u001b[0m invalid syntax\n"
     ]
    }
   ],
   "source": [
    "hits= []\n",
    "for i,event in enumerate(loaded_events[:10]):\n",
    "#hid, (x, y, z) \n",
    "\n",
    "#(zip(loaded_events[\"x\"], loaded_events[\"y\"], loaded_events[\"z\"])):\n",
    "        hits.append(loaded_events[i].(x, y, z, hid))\n",
    "        \n"
   ]
  },
  {
   "cell_type": "code",
   "execution_count": null,
   "metadata": {},
   "outputs": [],
   "source": [
    "        description = json_data[\"montecarlo\"][\"description\"]\n",
    "        particles = json_data[\"montecarlo\"][\"particles\"]\n",
    "            for p in particles:\n",
    "        d = {description[i]: p[i] for i in range(len(description))}\n",
    "        track_hits = [hits[hit_number] for hit_number in d[\"hits\"]]\n",
    "        if len(track_hits) >= 3:\n",
    "            hits_in_reconstructible_tracks += len(track_hits)\n",
    "\n",
    "    noise = len(hits) - hits_in_reconstructible_tracks\n",
    "    return noise\n"
   ]
  },
  {
   "cell_type": "code",
   "execution_count": null,
   "metadata": {},
   "outputs": [],
   "source": [
    "\n",
    "for i,event in enumerate(loaded_events[:10]):\n",
    "    for x in event.montecarlo.get('x'):\n",
    "        all_hit \n",
    "\n",
    "\n",
    "noise_hits = [hit for hit in event.hits if hit.id not in hits_from_particles]\n",
    "noise_coords = np.zeros(shape=(2,len(noise_hits)))\n",
    "\n",
    "for i, hit in enumerate(noise_hits):\n",
    "    noise_coords[0,i]= hit.x\n",
    "    noise_coords[1,i]= hit.y\n",
    "\n",
    "track_hit_coords = np.zeros(shape=(2, len(all_track_hits))) \n",
    "for i, hit in enumerate(all_track_hits):\n",
    "    track_hit_coords[0,i] = hit.x\n",
    "    track_hit_coords[1,i] = hit.y\n",
    "\n",
    "print(noise_hits)"
   ]
  },
  {
   "cell_type": "code",
   "execution_count": null,
   "metadata": {},
   "outputs": [
    {
     "ename": "NameError",
     "evalue": "name 'plt' is not defined",
     "output_type": "error",
     "traceback": [
      "\u001b[1;31m---------------------------------------------------------------------------\u001b[0m",
      "\u001b[1;31mNameError\u001b[0m                                 Traceback (most recent call last)",
      "\u001b[1;32m<ipython-input-2-d144045991bd>\u001b[0m in \u001b[0;36m<module>\u001b[1;34m\u001b[0m\n\u001b[0;32m      1\u001b[0m \u001b[1;31m#Plot\u001b[0m\u001b[1;33m\u001b[0m\u001b[1;33m\u001b[0m\u001b[1;33m\u001b[0m\u001b[0m\n\u001b[1;32m----> 2\u001b[1;33m \u001b[0mfig\u001b[0m \u001b[1;33m=\u001b[0m \u001b[0mplt\u001b[0m\u001b[1;33m.\u001b[0m\u001b[0mfigure\u001b[0m\u001b[1;33m(\u001b[0m\u001b[0mfigsize\u001b[0m\u001b[1;33m=\u001b[0m\u001b[1;33m(\u001b[0m\u001b[1;36m20\u001b[0m\u001b[1;33m,\u001b[0m\u001b[1;36m20\u001b[0m\u001b[1;33m)\u001b[0m\u001b[1;33m)\u001b[0m\u001b[1;33m\u001b[0m\u001b[1;33m\u001b[0m\u001b[0m\n\u001b[0m\u001b[0;32m      3\u001b[0m \u001b[0max\u001b[0m  \u001b[1;33m=\u001b[0m \u001b[0mfig\u001b[0m\u001b[1;33m.\u001b[0m\u001b[0madd_subplot\u001b[0m\u001b[1;33m(\u001b[0m\u001b[1;36m111\u001b[0m\u001b[1;33m)\u001b[0m\u001b[1;33m\u001b[0m\u001b[1;33m\u001b[0m\u001b[0m\n\u001b[0;32m      4\u001b[0m \u001b[1;33m\u001b[0m\u001b[0m\n\u001b[0;32m      5\u001b[0m \u001b[1;32mfor\u001b[0m \u001b[0mparticle\u001b[0m \u001b[1;32min\u001b[0m \u001b[0mall_event_particles\u001b[0m\u001b[1;33m:\u001b[0m\u001b[1;33m\u001b[0m\u001b[1;33m\u001b[0m\u001b[0m\n",
      "\u001b[1;31mNameError\u001b[0m: name 'plt' is not defined"
     ]
    }
   ],
   "source": [
    "#Plot\n",
    "fig = plt.figure(figsize=(20,20))\n",
    "ax  = fig.add_subplot(111)\n",
    "\n",
    "for particle in all_event_particles:\n",
    "    coords = give_track_coords(particle)\n",
    "    color = 'black'\n",
    "    width = 0.1\n",
    "    label = 'particle track'\n",
    "    if particle.is_decay:\n",
    "        width = 0.5\n",
    "        color = 'green'\n",
    "        label = 'decay track'\n",
    "    ax.plot(coords[0], coords[1], linewidth=width, color=color, markeredgewidth=2, label = label)\n",
    "ax.scatter(track_hit_coords[0],track_hit_coords[1], s=0.2, c ='b')\n",
    "ax.scatter(noise_coords[0],noise_coords[1], s=0.2, c ='r')\n",
    "\n",
    "ax.set_xlabel('x - axis')\n",
    "ax.set_ylabel('y - axis')\n",
    "ax.set_title('All tracks of a single event (decay tracks in green and noise hits in red)')\n",
    "ax.legend()\n",
    "plt.show()\n",
    "#plt.savefig('test')"
   ]
  },
  {
   "attachments": {},
   "cell_type": "markdown",
   "metadata": {},
   "source": [
    "> There is a problem with this code, the noise hits don't compile and so don't appear."
   ]
  },
  {
   "cell_type": "code",
   "execution_count": null,
   "metadata": {},
   "outputs": [
    {
     "ename": "NameError",
     "evalue": "name 'all_event_particles' is not defined",
     "output_type": "error",
     "traceback": [
      "\u001b[1;31m---------------------------------------------------------------------------\u001b[0m",
      "\u001b[1;31mNameError\u001b[0m                                 Traceback (most recent call last)",
      "\u001b[1;32m<ipython-input-1-d53acfadab32>\u001b[0m in \u001b[0;36m<module>\u001b[1;34m\u001b[0m\n\u001b[0;32m      3\u001b[0m \u001b[1;33m\u001b[0m\u001b[0m\n\u001b[0;32m      4\u001b[0m \u001b[1;31m# Lets analyse angles of the particles (distribution of this)\u001b[0m\u001b[1;33m\u001b[0m\u001b[1;33m\u001b[0m\u001b[1;33m\u001b[0m\u001b[0m\n\u001b[1;32m----> 5\u001b[1;33m \u001b[0mall_particles\u001b[0m \u001b[1;33m=\u001b[0m \u001b[0mall_event_particles\u001b[0m\u001b[1;33m\u001b[0m\u001b[1;33m\u001b[0m\u001b[0m\n\u001b[0m\u001b[0;32m      6\u001b[0m \u001b[0mall_angles\u001b[0m \u001b[1;33m=\u001b[0m \u001b[1;33m[\u001b[0m\u001b[1;33m]\u001b[0m\u001b[1;33m\u001b[0m\u001b[1;33m\u001b[0m\u001b[0m\n\u001b[0;32m      7\u001b[0m \u001b[0mnum_hits\u001b[0m \u001b[1;33m=\u001b[0m \u001b[1;33m[\u001b[0m\u001b[1;33m]\u001b[0m\u001b[1;33m\u001b[0m\u001b[1;33m\u001b[0m\u001b[0m\n",
      "\u001b[1;31mNameError\u001b[0m: name 'all_event_particles' is not defined"
     ]
    }
   ],
   "source": [
    "# THIS IS NOT VERY USEFUL FOR ME\n",
    "\n",
    "\n",
    "# Lets analyse angles of the particles (distribution of this)\n",
    "all_particles = all_event_particles\n",
    "all_angles = []\n",
    "num_hits = []\n",
    "\n",
    "# print(f'number of particles were looking at {len(all_particles)}')\n",
    "\n",
    "for particle in all_particles:\n",
    "    all_angles = all_angles + [particle.phi]\n",
    "    num_hits = num_hits + [len(particle.track)]\n",
    "\n",
    "#print(all_particles)\n",
    "print(len(all_angles))"
   ]
  },
  {
   "cell_type": "code",
   "execution_count": null,
   "metadata": {},
   "outputs": [
    {
     "ename": "TypeError",
     "evalue": "'particle' object is not callable",
     "output_type": "error",
     "traceback": [
      "\u001b[1;31m---------------------------------------------------------------------------\u001b[0m",
      "\u001b[1;31mTypeError\u001b[0m                                 Traceback (most recent call last)",
      "\u001b[1;32m<ipython-input-17-e82dab8c7073>\u001b[0m in \u001b[0;36m<module>\u001b[1;34m\u001b[0m\n\u001b[0;32m      6\u001b[0m     \u001b[1;31m#print(i)\u001b[0m\u001b[1;33m\u001b[0m\u001b[1;33m\u001b[0m\u001b[1;33m\u001b[0m\u001b[0m\n\u001b[0;32m      7\u001b[0m     \u001b[1;32mfor\u001b[0m \u001b[0mpart\u001b[0m \u001b[1;32min\u001b[0m \u001b[0mevent\u001b[0m\u001b[1;33m.\u001b[0m\u001b[0mmontecarlo\u001b[0m\u001b[1;33m.\u001b[0m\u001b[0mget\u001b[0m\u001b[1;33m(\u001b[0m\u001b[1;34m'particles'\u001b[0m\u001b[1;33m)\u001b[0m\u001b[1;33m:\u001b[0m\u001b[1;33m\u001b[0m\u001b[1;33m\u001b[0m\u001b[0m\n\u001b[1;32m----> 8\u001b[1;33m         \u001b[0mtemp_particle\u001b[0m \u001b[1;33m=\u001b[0m \u001b[0mparticle\u001b[0m\u001b[1;33m(\u001b[0m\u001b[0mpart\u001b[0m\u001b[1;33m,\u001b[0m \u001b[0mevent\u001b[0m\u001b[1;33m)\u001b[0m\u001b[1;33m\u001b[0m\u001b[1;33m\u001b[0m\u001b[0m\n\u001b[0m\u001b[0;32m      9\u001b[0m         \u001b[0mall_event_particles\u001b[0m \u001b[1;33m=\u001b[0m \u001b[0mall_event_particles\u001b[0m \u001b[1;33m+\u001b[0m \u001b[1;33m[\u001b[0m\u001b[0mtemp_particle\u001b[0m\u001b[1;33m]\u001b[0m\u001b[1;33m\u001b[0m\u001b[1;33m\u001b[0m\u001b[0m\n\u001b[0;32m     10\u001b[0m         \u001b[1;32mfor\u001b[0m \u001b[0mhit\u001b[0m \u001b[1;32min\u001b[0m \u001b[0mtemp_particle\u001b[0m\u001b[1;33m.\u001b[0m\u001b[0mtrack\u001b[0m\u001b[1;33m:\u001b[0m\u001b[1;33m\u001b[0m\u001b[1;33m\u001b[0m\u001b[0m\n",
      "\u001b[1;31mTypeError\u001b[0m: 'particle' object is not callable"
     ]
    }
   ],
   "source": [
    "all_event_particles = []\n",
    "hits_to_remove = []\n",
    "all_track_hits = []\n",
    "\n",
    "for i,event in enumerate(loaded_events[:100]):\n",
    "    #print(i)\n",
    "    for part in event.montecarlo.get('particles'):\n",
    "        temp_particle = particle(part, event)\n",
    "        all_event_particles = all_event_particles + [temp_particle]\n",
    "        for hit in temp_particle.track:\n",
    "            hits_to_remove.append(hit.id)\n",
    "        all_track_hits = all_track_hits + temp_particle.track"
   ]
  },
  {
   "cell_type": "code",
   "execution_count": null,
   "metadata": {},
   "outputs": [
    {
     "name": "stdout",
     "output_type": "stream",
     "text": [
      "4572\n",
      "beam_crossing\n",
      "199\n",
      "0.04352580927384077\n",
      "no_co\n",
      "4571\n",
      "0.9997812773403325\n"
     ]
    }
   ],
   "source": [
    "################ checking how many tracks cross the beam line ##################\n",
    "################ also checking how many tracks dont have consecutive triplets ##########\n",
    "# the consecutive thing is really not nice\n",
    "beam_crossing_particles = []\n",
    "no_cosecutive_triplet = []\n",
    "\n",
    "# id say we have a beam cross if either x or y change sign among hits\n",
    "for particle in all_particles:\n",
    "    x_p, x_n, y_p, y_n, = False, False, False, False\n",
    "    triplet = 0\n",
    "    last_module = -2\n",
    "    for hit in particle.track:\n",
    "        x_p = hit.x >0 or x_p\n",
    "        x_n = hit.x <0 or x_n\n",
    "        y_p = hit.y >0 or y_p\n",
    "        y_n = hit.y <0 or y_n\n",
    "        \n",
    "        if triplet < 3:\n",
    "            if hit.module_number in (last_module + 1,last_module + 1):\n",
    "                triplet += 1\n",
    "                last_module = hit.module_number\n",
    "            else:\n",
    "                triplet = 1\n",
    "                last_module = hit.module_number\n",
    "                \n",
    "    if x_p + x_n + y_p + y_n > 2:\n",
    "        beam_crossing_particles = beam_crossing_particles + [particle]\n",
    "    if triplet < 3:\n",
    "        no_cosecutive_triplet = no_cosecutive_triplet + [particle]\n",
    "print(len(all_particles))\n",
    "print('beam_crossing')\n",
    "print(len(beam_crossing_particles))\n",
    "print(len(beam_crossing_particles)/len(all_particles))\n",
    "print('no_co')\n",
    "print(len(no_cosecutive_triplet))\n",
    "print(len(no_cosecutive_triplet)/len(all_particles))\n",
    "\n",
    "\n",
    "# 5% of the tracks seem to cross the line"
   ]
  },
  {
   "cell_type": "code",
   "execution_count": null,
   "metadata": {},
   "outputs": [
    {
     "name": "stdout",
     "output_type": "stream",
     "text": [
      "621\n"
     ]
    }
   ],
   "source": [
    "decay = 0\n",
    "for particle in all_particles:\n",
    "    if particle.is_decay:\n",
    "        decay +=1\n",
    "print(decay)\n",
    "# abput 5% of particles from decay"
   ]
  },
  {
   "cell_type": "code",
   "execution_count": null,
   "metadata": {},
   "outputs": [
    {
     "name": "stdout",
     "output_type": "stream",
     "text": [
      "82\n"
     ]
    }
   ],
   "source": [
    "decay = 0\n",
    "for particle in beam_crossing_particles:\n",
    "    if particle.is_decay:\n",
    "        decay +=1\n",
    "print(decay)\n",
    "# ~20%\n",
    "\n",
    "#775 -> 132"
   ]
  },
  {
   "attachments": {},
   "cell_type": "markdown",
   "metadata": {},
   "source": [
    "## Track regression analysis\n"
   ]
  },
  {
   "cell_type": "code",
   "execution_count": null,
   "metadata": {},
   "outputs": [],
   "source": [
    "import math\n",
    "\n",
    "def dotproduct(v1, v2):\n",
    "  return sum((a*b) for a, b in zip(v1, v2))\n",
    "\n",
    "def length(v):\n",
    "  return math.sqrt(dotproduct(v, v))\n",
    "\n",
    "def angle(v1, v2):\n",
    "  return math.acos(dotproduct(v1, v2) / (length(v1) * length(v2)))\n"
   ]
  },
  {
   "cell_type": "code",
   "execution_count": null,
   "metadata": {},
   "outputs": [
    {
     "name": "stdout",
     "output_type": "stream",
     "text": [
      "\n",
      "\n",
      "\n",
      "\n",
      "\n",
      "\n",
      "\n",
      "\n",
      "(0.031155956609236524, #935 module 15 {1.361, -6.667, 0.581}, (array([3.20214102]), array([-15.71196468])), 0.0016611114044957514)\n"
     ]
    }
   ],
   "source": [
    "from sklearn.linear_model import LinearRegression\n",
    "\n",
    "def track_regression_analysis(particle):\n",
    "    my_arr = np.zeros((len(particle.track),2))\n",
    "    z = np.zeros((len(particle.track),1))\n",
    "    for i, hit in enumerate(particle.track):\n",
    "        my_arr[i,0] = hit.x        \n",
    "        my_arr[i,1] = hit.y\n",
    "        z[i] = hit.z\n",
    "        \n",
    "    x_reg = LinearRegression().fit(z,my_arr[:,0])\n",
    "    y_reg = LinearRegression().fit(z,my_arr[:,1])\n",
    "    \n",
    "    dev_hit = particle.track[0]\n",
    "    x_pred = x_reg.predict(np.array([dev_hit.z]).reshape(-1, 1))\n",
    "    y_pred = y_reg.predict(np.array([dev_hit.z]).reshape(-1, 1))\n",
    "    pred = (x_pred,y_pred)\n",
    "    \n",
    "    max_dev_hit = math.sqrt((x_pred[0]-dev_hit.x)**2 + (y_pred[0]-dev_hit.y)**2)\n",
    "    max_angle = 0\n",
    "    last_hit = dev_hit\n",
    "    \n",
    "    for hit in particle.track[1:]:\n",
    "        x_pred = x_reg.predict(np.array([hit.z]).reshape(-1, 1))\n",
    "        y_pred = y_reg.predict(np.array([hit.z]).reshape(-1, 1))\n",
    "        new_deviation = math.sqrt((x_pred[0]-hit.x)**2 + (y_pred[0]-hit.y)**2)\n",
    "        print()\n",
    "        new_angle = angle((x_reg.coef_, y_reg.coef_,1), (hit.x-last_hit.x,hit.y-last_hit.y,hit.z-last_hit.z))\n",
    "        if new_deviation >  max_dev_hit:\n",
    "            max_dev_hit = new_deviation\n",
    "            dev_hit = hit\n",
    "            pred = (x_pred,y_pred)\n",
    "            \n",
    "        if new_angle > max_angle:\n",
    "            max_angle = new_angle\n",
    "            \n",
    "        last_hit = hit\n",
    "    return max_dev_hit, hit, pred, max_angle\n",
    "    \n",
    "\n",
    "print(track_regression_analysis(all_particles[0]))\n",
    "    "
   ]
  },
  {
   "cell_type": "code",
   "execution_count": null,
   "metadata": {},
   "outputs": [
    {
     "name": "stdout",
     "output_type": "stream",
     "text": [
      "\n",
      "\n",
      "\n",
      "\n",
      "\n",
      "\n",
      "\n",
      "\n",
      "\n"
     ]
    },
    {
     "ename": "TypeError",
     "evalue": "'float' object is not callable",
     "output_type": "error",
     "traceback": [
      "\u001b[1;31m---------------------------------------------------------------------------\u001b[0m",
      "\u001b[1;31mTypeError\u001b[0m                                 Traceback (most recent call last)",
      "Cell \u001b[1;32mIn[47], line 6\u001b[0m\n\u001b[0;32m      3\u001b[0m max_deviation \u001b[39m=\u001b[39m \u001b[39m0\u001b[39m\n\u001b[0;32m      5\u001b[0m \u001b[39mfor\u001b[39;00m particle \u001b[39min\u001b[39;00m all_particles[:\u001b[39m50\u001b[39m]:\n\u001b[1;32m----> 6\u001b[0m     dev_hit, hit, pred, angle \u001b[39m=\u001b[39m track_regression_analysis(particle)\n\u001b[0;32m      8\u001b[0m     \u001b[39mif\u001b[39;00m max_angle \u001b[39m<\u001b[39m angle:\n\u001b[0;32m      9\u001b[0m         max_angle \u001b[39m=\u001b[39m angle\n",
      "Cell \u001b[1;32mIn[46], line 28\u001b[0m, in \u001b[0;36mtrack_regression_analysis\u001b[1;34m(particle)\u001b[0m\n\u001b[0;32m     26\u001b[0m new_deviation \u001b[39m=\u001b[39m math\u001b[39m.\u001b[39msqrt((x_pred[\u001b[39m0\u001b[39m]\u001b[39m-\u001b[39mhit\u001b[39m.\u001b[39mx)\u001b[39m*\u001b[39m\u001b[39m*\u001b[39m\u001b[39m2\u001b[39m \u001b[39m+\u001b[39m (y_pred[\u001b[39m0\u001b[39m]\u001b[39m-\u001b[39mhit\u001b[39m.\u001b[39my)\u001b[39m*\u001b[39m\u001b[39m*\u001b[39m\u001b[39m2\u001b[39m)\n\u001b[0;32m     27\u001b[0m \u001b[39mprint\u001b[39m()\n\u001b[1;32m---> 28\u001b[0m new_angle \u001b[39m=\u001b[39m angle((x_reg\u001b[39m.\u001b[39;49mcoef_, y_reg\u001b[39m.\u001b[39;49mcoef_,\u001b[39m1\u001b[39;49m), (hit\u001b[39m.\u001b[39;49mx\u001b[39m-\u001b[39;49mlast_hit\u001b[39m.\u001b[39;49mx,hit\u001b[39m.\u001b[39;49my\u001b[39m-\u001b[39;49mlast_hit\u001b[39m.\u001b[39;49my,hit\u001b[39m.\u001b[39;49mz\u001b[39m-\u001b[39;49mlast_hit\u001b[39m.\u001b[39;49mz))\n\u001b[0;32m     29\u001b[0m \u001b[39mif\u001b[39;00m new_deviation \u001b[39m>\u001b[39m  max_dev_hit:\n\u001b[0;32m     30\u001b[0m     max_dev_hit \u001b[39m=\u001b[39m new_deviation\n",
      "\u001b[1;31mTypeError\u001b[0m: 'float' object is not callable"
     ]
    }
   ],
   "source": [
    "################ here I want to check what is the max and expected deviation of points from the line ############\n",
    "max_angle = 0\n",
    "max_deviation = 0\n",
    "\n",
    "for particle in all_particles[:50]:\n",
    "    dev_hit, hit, pred, angle = track_regression_analysis(particle)\n",
    "    \n",
    "    if max_angle < angle:\n",
    "        max_angle = angle\n",
    "    if max_deviation < dev_hit:\n",
    "        max_deviation = dev_hit\n",
    "\n",
    "print(max_angle)\n",
    "print(max_deviation)"
   ]
  }
 ],
 "metadata": {
  "kernelspec": {
   "display_name": "base",
   "language": "python",
   "name": "python3"
  },
  "language_info": {
   "codemirror_mode": {
    "name": "ipython",
    "version": 3
   },
   "file_extension": ".py",
   "mimetype": "text/x-python",
   "name": "python",
   "nbconvert_exporter": "python",
   "pygments_lexer": "ipython3",
   "version": "3.8.3"
  },
  "vscode": {
   "interpreter": {
    "hash": "e13a6a7dce0aae7412225c345a3011e4be0b7b46c112ebb5d87e91cc76b9a7f8"
   }
  }
 },
 "nbformat": 4,
 "nbformat_minor": 2
}
