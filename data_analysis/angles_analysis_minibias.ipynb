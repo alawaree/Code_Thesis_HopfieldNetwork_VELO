{
 "cells": [
  {
   "cell_type": "code",
   "execution_count": 100,
   "metadata": {},
   "outputs": [],
   "source": [
    "# Initialization\n",
    "# 1. Get the relevant dependencies \n",
    "import json\n",
    "import os\n",
    "import sys \n",
    "import random\n",
    "import math\n",
    "import numpy as np\n",
    "import pandas as pd\n",
    "import inspect\n",
    "import os.path\n",
    "import matplotlib.pyplot as plt\n",
    "import heapq\n",
    "from math import atan2,pi\n",
    "\n",
    "module_path = os.path.abspath(os.path.join('..'))\n",
    "if module_path not in sys.path:\n",
    "    sys.path.append(module_path)\n",
    "\n",
    "from event_model import event_model as em\n",
    "\n",
    "# resource switch\n",
    "dataset={\n",
    "    'small':'datasets/small_dataset',\n",
    "    'bsphiphi': 'datasets/bsphiphi',\n",
    "    'minibias': 'datasets/minibias'\n",
    "}"
   ]
  },
  {
   "cell_type": "code",
   "execution_count": 101,
   "metadata": {},
   "outputs": [
    {
     "name": "stdout",
     "output_type": "stream",
     "text": [
      "Successfully loaded 995 events from minibias dataset.\n"
     ]
    }
   ],
   "source": [
    "# analysis variables\n",
    "DATASET = 'minibias'\n",
    "load_percent = 100\n",
    "shuffle = False\n",
    "\n",
    "# read in the events -> from the folder choosen \n",
    "loaded_events = []\n",
    "for (dirpath, dirnames, filenames) in os.walk(os.path.abspath(os.path.join('..', dataset[DATASET]))):\n",
    "    if shuffle:\n",
    "        random.shuffle(filenames)\n",
    "\n",
    "    for i, filename in enumerate(filenames):\n",
    "        # Get an event\n",
    "        f = open(os.path.realpath(os.path.join(dirpath, filename)))\n",
    "        json_data = json.loads(f.read())\n",
    "        loaded_events = loaded_events + [em.event(json_data)]\n",
    "        f.close()\n",
    "        \n",
    "        if i == int(load_percent * len(filenames)):\n",
    "            print(f'successfully loaded {i} events from {DATASET}')\n",
    "            break\n",
    "\n",
    "\n",
    "print(f'Successfully loaded {len(loaded_events)} events from {DATASET} dataset.' )"
   ]
  },
  {
   "cell_type": "code",
   "execution_count": 102,
   "metadata": {},
   "outputs": [],
   "source": [
    "class particle(object):\n",
    "    def __init__(self, particle, event):\n",
    "        self.key = particle[0]\n",
    "        self.pid = particle[1]\n",
    "        self.p = particle[2]\n",
    "        self.pt = particle[3]\n",
    "        self.eta = particle[4]\n",
    "        self.phi = particle[5]\n",
    "        self.isLong = particle[6]\n",
    "        self.isDown = particle[7]\n",
    "        self.hasVelo = particle[8]\n",
    "        self.hasUT = particle[9]\n",
    "        self.hasScifi = particle[10]\n",
    "        self.fromBeautyDecay = particle[11]\n",
    "        self.fromCharmDecay = particle[12]\n",
    "        self.fromStrangeDecay = particle[13]\n",
    "        self.charge = particle[14]\n",
    "        self.hits = particle[15]\n",
    "        self.track = [hit for hit in event.hits if hit.id in self.hits]\n",
    "        self.is_decay = any([particle[11], particle[12], particle[13]])\n",
    "        self.is_noise = len(self.track) < 3\n",
    "        # compare dist of 2 points to center\n",
    "        #self.left_to_right = (math.sqrt(self.track[0].x**2 * self.track[0].y**2) < math.sqrt(self.track[1].x**2 * self.track[1].y**2))"
   ]
  },
  {
   "cell_type": "code",
   "execution_count": 103,
   "metadata": {},
   "outputs": [],
   "source": [
    "all_event_particles = []\n",
    "hits_to_remove = []\n",
    "all_track_hits = []\n",
    "\n",
    "for i,event in enumerate(loaded_events[:]):\n",
    "    #print(i)\n",
    "    for part in event.montecarlo.get('particles'):\n",
    "        temp_particle = particle(part, event)\n",
    "        all_event_particles = all_event_particles + [temp_particle]\n",
    "        for hit in temp_particle.track:\n",
    "            hits_to_remove.append(hit.id)\n",
    "        all_track_hits = all_track_hits + temp_particle.track\n",
    "\n",
    "noise_hits = [hit for hit in event.hits if hit.id not in hits_to_remove]\n",
    "noise_coords = np.zeros(shape=(2,len(noise_hits)))\n",
    "\n",
    "for i, hit in enumerate(noise_hits):\n",
    "    noise_coords[0,i]= hit.x\n",
    "    noise_coords[1,i]= hit.y\n",
    "\n",
    "track_hit_coords = np.zeros(shape=(2, len(all_track_hits))) \n",
    "for i, hit in enumerate(all_track_hits):\n",
    "    track_hit_coords[0,i] = hit.x\n",
    "    track_hit_coords[1,i] = hit.y"
   ]
  },
  {
   "cell_type": "code",
   "execution_count": 104,
   "metadata": {},
   "outputs": [
    {
     "name": "stdout",
     "output_type": "stream",
     "text": [
      "Number of particles were looking at 274885\n"
     ]
    }
   ],
   "source": [
    "all_particles = all_event_particles\n",
    "print(f'Number of particles were looking at {len(all_particles)}')\n"
   ]
  },
  {
   "attachments": {},
   "cell_type": "markdown",
   "metadata": {},
   "source": [
    "## General overview of the angles"
   ]
  },
  {
   "cell_type": "code",
   "execution_count": 105,
   "metadata": {},
   "outputs": [
    {
     "name": "stdout",
     "output_type": "stream",
     "text": [
      "Number of particles were looking at 274885.\n"
     ]
    }
   ],
   "source": [
    "# Compute the angles\n",
    "\n",
    "angle_xz_deg_list = []\n",
    "angle_yz_deg_list = []\n",
    "angle_xy_deg_list = []\n",
    "\n",
    "angle_xz_rad_list =[]\n",
    "angle_yz_rad_list = []\n",
    "angle_xy_rad_list =[]\n",
    "\n",
    "for particle in all_particles:\n",
    "    hit1 = particle.track[0]    \n",
    "    hit2 = particle.track[-1]\n",
    "\n",
    "\n",
    "    # ANGLES\n",
    "    angle_xz = atan2((hit2.x - hit1.x),(hit2.z - hit1.z))\n",
    "    angle_yz = atan2((hit2.y - hit1.y),(hit2.z - hit1.z))\n",
    "    angle_xy = atan2((hit2.x - hit1.x),(hit2.y - hit1.y))\n",
    "    \n",
    "    angle_xz_deg = math.degrees(angle_xz)\n",
    "    angle_yz_deg = math.degrees(angle_yz)\n",
    "    angle_xy_deg = math.degrees(angle_xy)\n",
    "\n",
    "    angle_xz_rad_list.append(angle_xz)\n",
    "    angle_yz_rad_list.append(angle_yz)\n",
    "    angle_xy_rad_list.append(angle_xy)\n",
    "\n",
    "    angle_xz_deg_list.append(angle_xz_deg)\n",
    "    angle_yz_deg_list.append(angle_yz_deg)\n",
    "    angle_xy_deg_list.append(angle_xy_deg)\n",
    "\n",
    "print(f'Number of particles were looking at {len(all_particles)}.')"
   ]
  },
  {
   "cell_type": "code",
   "execution_count": 136,
   "metadata": {},
   "outputs": [],
   "source": [
    "#Fct to plot the angles\n",
    "\n",
    "def plot_angles_analysis(angle_rad_list,angle_deg_list, title=None, save_to_file= False):\n",
    "\n",
    "    angles = [angle for angle in angle_rad_list]\n",
    "    bins_number = 360\n",
    "    plt.clf()\n",
    "    ax = plt.subplot(1, 1, 1, projection='polar')\n",
    "    ax.hist(angles, bins=bins_number, range=(2*-pi,2*pi),color = \"skyblue\", edgecolor='blue',linewidth= 0.5)\n",
    "    plt.title(f'Polar histogram of angles {title} ')\n",
    "    if save_to_file:\n",
    "        plt.savefig(f'angles_analysis_plots/PolarHistogram_angles_{title}_{DATASET}.png')\n",
    "        #plt.savefig(f'angles_plots/{title}', bbox_inches='tight', pad_inches=0.2)\n",
    "        plt.close()\n",
    "    else:\n",
    "        plt.show()\n",
    "\n",
    "    plt.clf()\n",
    "    plt.hist(angle_deg_list, bins=180, range=(-180, 180),color = \"skyblue\", edgecolor='blue',linewidth= 0.5)\n",
    "    plt.xlabel('Angles (degree)')\n",
    "    plt.ylabel('Count')\n",
    "    plt.title(f'Histogram of angles {title} ')\n",
    "    if save_to_file:\n",
    "        plt.savefig(f'angles_analysis_plots/Histogram_angles_{title}_{DATASET}.png')\n",
    "        #plt.savefig(f'angles_plots/{title}', bbox_inches='tight', pad_inches=0.2)\n",
    "        plt.close()\n",
    "    else:\n",
    "        plt.show()"
   ]
  },
  {
   "cell_type": "code",
   "execution_count": 137,
   "metadata": {},
   "outputs": [],
   "source": [
    "plot_angles_analysis(angle_xy_rad_list,angle_xy_deg_list,'xy', True)"
   ]
  },
  {
   "cell_type": "code",
   "execution_count": 139,
   "metadata": {},
   "outputs": [],
   "source": [
    "plot_angles_analysis(angle_xz_rad_list,angle_xz_deg_list,'xz', True)"
   ]
  },
  {
   "cell_type": "code",
   "execution_count": 138,
   "metadata": {},
   "outputs": [],
   "source": [
    "plot_angles_analysis(angle_yz_rad_list,angle_yz_deg_list,'yz', True)"
   ]
  },
  {
   "attachments": {},
   "cell_type": "markdown",
   "metadata": {},
   "source": [
    "### Work on the pseudorapidity\n",
    "1. calcul of theta (angle between z and y)\n",
    "2. calcul of eta (pseudorapidity)"
   ]
  },
  {
   "cell_type": "code",
   "execution_count": 111,
   "metadata": {},
   "outputs": [
    {
     "name": "stdout",
     "output_type": "stream",
     "text": [
      "Pseudorapidity Min and Max values: (0.49768120750174444, 13.281651694090138)\n",
      "Number of particules tracks deleted: 243 particles tracks.\n",
      "Percentage of particles tracks analysed: 0.9991159939611111 %\n",
      "Percentage of lost: 0.0008840060388889404 %\n",
      "Percentage of tracks inside 1 to 7: 0.9415828437346526 %\n"
     ]
    },
    {
     "data": {
      "image/png": "[encoded data removed]",
      "text/plain": [
       "<Figure size 640x480 with 1 Axes>"
      ]
     },
     "metadata": {},
     "output_type": "display_data"
    }
   ],
   "source": [
    "from math import atan2, log, tan, degrees, pi\n",
    "from decimal import Decimal\n",
    "\n",
    "pseudorapidity_eta_list = []\n",
    "angle_atan2_rad_list =[]\n",
    "angle_atan2_degree_list =[]\n",
    "\n",
    "counter_0= 0\n",
    "\n",
    "\n",
    "for particle in all_particles:\n",
    "    hit1 = particle.track[0]    \n",
    "    hit2 = particle.track[-1]\n",
    "\n",
    "    opp = hit2.y-hit1.y\n",
    "    adj = hit2.z-hit1.z\n",
    "\n",
    "    angle_atan2_rad = atan2(opp,adj)\n",
    "    angle_atan2_rad_list.append(angle_atan2_rad)\n",
    "\n",
    "    angle_atan2_degree = degrees(angle_atan2_rad)\n",
    "    angle_atan2_degree_list.append(angle_atan2_degree)\n",
    "\n",
    "    #Pseudorapidity\n",
    "    step1 = Decimal(tan(angle_atan2_rad/2))\n",
    "\n",
    "    step2 = (abs(step1))\n",
    "    if step2 == 0:\n",
    "        counter_0+=1\n",
    "    else:\n",
    "        pseudorapidity_eta = -(log(step2))\n",
    "        pseudorapidity_eta_list.append(pseudorapidity_eta)\n",
    "\n",
    "\n",
    "maximum = heapq.nlargest(1, pseudorapidity_eta_list)[0]\n",
    "minimum = heapq.nsmallest(1, pseudorapidity_eta_list)[0]\n",
    "print(f'Pseudorapidity Min and Max values: {minimum,maximum}') \n",
    "\n",
    "percentage_of_lost = 1 -((len(all_particles)-counter_0)/len(all_particles))\n",
    "print(f'Number of particules tracks deleted: {counter_0} particles tracks.')\n",
    "print(f'Percentage of particles tracks analysed: {1-percentage_of_lost} %')\n",
    "print(f'Percentage of lost: {percentage_of_lost} %')\n",
    "\n",
    "lower_bound = 1\n",
    "upper_bound = 6\n",
    "interval_list = [x for x in pseudorapidity_eta_list if lower_bound <= x <= upper_bound]\n",
    "count = sum(1 for x in interval_list)\n",
    "percentage_of_tracks_inside_acceptance = count/len(all_particles)\n",
    "print(f'Percentage of tracks inside 1 to 7: {percentage_of_tracks_inside_acceptance} %')\n",
    "\n",
    "plt.hist(pseudorapidity_eta_list,color = \"skyblue\", edgecolor='blue',bins=50)\n",
    "plt.xlabel('Histogram pseudorapidity')\n",
    "plt.ylabel('Count')\n",
    "plt.show()\n"
   ]
  },
  {
   "cell_type": "code",
   "execution_count": 140,
   "metadata": {},
   "outputs": [
    {
     "name": "stdout",
     "output_type": "stream",
     "text": [
      "Pseudorapidity Min and Max values: (0.4976812075017445, 13.281651694090138)\n",
      "Number of particules tracks deleted: 243 particles tracks.\n",
      "Percentage of particles tracks analysed: 0.9991159939611111 %\n",
      "Percentage of lost: 0.0008840060388889404 %\n",
      "Percentage of tracks inside 1 to 7: 0.9415828437346526 %\n"
     ]
    },
    {
     "data": {
      "image/png": "[encoded data removed]",
      "text/plain": [
       "<Figure size 640x480 with 1 Axes>"
      ]
     },
     "metadata": {},
     "output_type": "display_data"
    }
   ],
   "source": [
    "from math import atan2, log, tan, degrees, cos, sin\n",
    "from decimal import Decimal\n",
    "\n",
    "pseudorapidity_eta_list = []\n",
    "angle_atan2_rad_list =[]\n",
    "angle_atan2_degree_list =[]\n",
    "\n",
    "counter_0= 0\n",
    "\n",
    "\n",
    "for particle in all_particles:\n",
    "    hit1 = particle.track[0]    \n",
    "    hit2 = particle.track[-1]\n",
    "\n",
    "    opp = hit2.y-hit1.y\n",
    "    adj = hit2.z-hit1.z\n",
    "\n",
    "    angle_atan2_rad = atan2(opp,adj)\n",
    "    angle_atan2_rad_list.append(angle_atan2_rad)\n",
    "\n",
    "    angle_atan2_degree = degrees(angle_atan2_rad)\n",
    "    angle_atan2_degree_list.append(angle_atan2_degree)\n",
    "\n",
    "    #Pseudorapidity\n",
    "    # Initial formula: pseudorapidity_eta = -(log(tan(polar_angle_yz_degree/2)))\n",
    "    # Seconde formula (to work on negative angles) pseudo = -0.5*(log((sin^2(angle_atan2_rad/2))/(cos^2(angle_atan2_rad/2))\n",
    "\n",
    "    step1 = Decimal((sin(angle_atan2_rad/2) ** 2)/(cos(angle_atan2_rad/2) ** 2))\n",
    "    if step1 == 0:\n",
    "        counter_0+=1\n",
    "    else:\n",
    "        pseudorapidity_eta = -0.5*(log(step1))\n",
    "        pseudorapidity_eta_list.append(pseudorapidity_eta)\n",
    "\n",
    "\n",
    "# Analysis\n",
    "maximum = heapq.nlargest(1, pseudorapidity_eta_list)[0]\n",
    "minimum = heapq.nsmallest(1, pseudorapidity_eta_list)[0]\n",
    "print(f'Pseudorapidity Min and Max values: {minimum,maximum}') \n",
    "\n",
    "percentage_of_lost = 1 -((len(all_particles)-counter_0)/len(all_particles))\n",
    "print(f'Number of particules tracks deleted: {counter_0} particles tracks.')\n",
    "print(f'Percentage of particles tracks analysed: {1-percentage_of_lost} %')\n",
    "print(f'Percentage of lost: {percentage_of_lost} %')\n",
    "\n",
    "lower_bound = 1\n",
    "upper_bound = 6\n",
    "interval_list = [x for x in pseudorapidity_eta_list if lower_bound <= x <= upper_bound]\n",
    "count = sum(1 for x in interval_list)\n",
    "percentage_of_tracks_inside_acceptance = count/len(all_particles)\n",
    "print(f'Percentage of tracks inside 1 to 7: {percentage_of_tracks_inside_acceptance} %')\n",
    "\n",
    "plt.hist(pseudorapidity_eta_list,color = \"skyblue\", edgecolor='blue',bins=50)\n",
    "plt.xlabel('Histogram pseudorapidity')\n",
    "plt.ylabel('Count')\n",
    "plt.savefig(f'angles_analysis_plots/Histogram_eta_{DATASET}.png')\n",
    "plt.show()\n"
   ]
  }
 ],
 "metadata": {
  "kernelspec": {
   "display_name": "Python 3",
   "language": "python",
   "name": "python3"
  },
  "language_info": {
   "codemirror_mode": {
    "name": "ipython",
    "version": 3
   },
   "file_extension": ".py",
   "mimetype": "text/x-python",
   "name": "python",
   "nbconvert_exporter": "python",
   "pygments_lexer": "ipython3",
   "version": "3.9.2"
  },
  "orig_nbformat": 4,
  "vscode": {
   "interpreter": {
    "hash": "01fe50a16b4ce4d8d34632692592e1bc62ea71f5ccf21d36838697cffecce7a9"
   }
  }
 },
 "nbformat": 4,
 "nbformat_minor": 2
}
