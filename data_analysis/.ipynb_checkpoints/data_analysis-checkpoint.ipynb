{
 "cells": [
  {
   "cell_type": "code",
   "execution_count": 52,
   "metadata": {},
   "outputs": [],
   "source": [
    "# get the relevant dependencies \n",
    "import json\n",
    "import os\n",
    "import sys \n",
    "module_path = os.path.abspath(os.path.join('..'))\n",
    "if module_path not in sys.path:\n",
    "    sys.path.append(module_path)\n",
    "from event_model import event_model as em"
   ]
  },
  {
   "cell_type": "code",
   "execution_count": 92,
   "metadata": {},
   "outputs": [],
   "source": [
    "# read in the events -> from the folder choosen \n",
    "all_considered_events = []\n",
    "\n",
    "# here we could plug in the events from cern that we got send i would actually like to do that\n",
    "# for (dirpath, dirnames, filenames) in os.walk(os.path.abspath(os.path.join('..', 'events'))):\n",
    "for (dirpath, dirnames, filenames) in os.walk(os.path.abspath(os.path.join('..','..', 'events_minbias_mag_down_run3'))):\n",
    "    for i, filename in enumerate(filenames):\n",
    "        # Get an event\n",
    "        f = open(os.path.realpath(os.path.join(dirpath, filename)))\n",
    "        json_data = json.loads(f.read())\n",
    "        all_considered_events = all_considered_events + [em.event(json_data)]\n",
    "        f.close()\n",
    "        \n",
    "        # lets take the first 50 event fromt he new dataset\n",
    "        if i == 150:\n",
    "            break\n"
   ]
  },
  {
   "cell_type": "code",
   "execution_count": 57,
   "metadata": {},
   "outputs": [
    {
     "name": "stdout",
     "output_type": "stream",
     "text": [
      "{-288.08, -286.918}\n",
      "-1.1619999999999777\n",
      "52\n"
     ]
    }
   ],
   "source": [
    "# is the distance beween the parts of one module always the same?\n",
    "event = all_considered_events[0] # take the first of the elements for this check\n",
    "\n",
    "event.module_zs\n",
    "for module in event.module_zs:\n",
    "    print(module)\n",
    "    print(list(module)[0]-list(module)[1])\n",
    "    # pretty damn the same\n",
    "    break\n",
    "print(len(event.module_zs)) # -> 52 modules with two parts always\n",
    "    "
   ]
  },
  {
   "cell_type": "code",
   "execution_count": 102,
   "metadata": {},
   "outputs": [],
   "source": [
    "# particle class to properly handle the real tracks -> might want to plot angles where we see the highest density\n",
    "class particle(object):\n",
    "    def __init__(self, particle, event):\n",
    "        self.key = particle[0]\n",
    "        self.pid = particle[1]\n",
    "        self.p = particle[2]\n",
    "        self.pt = particle[3]\n",
    "        self.eta = particle[4]\n",
    "        self.phi = particle[5]\n",
    "        self.isLong = particle[6]\n",
    "        self.isDown = particle[7]\n",
    "        self.hasVelo = particle[8]\n",
    "        self.hasUT = particle[9]\n",
    "        self.hasScifi = particle[10]\n",
    "        #self.fromBeautyDecay = particle[11]\n",
    "        #self.fromCharmDecay = particle[12]\n",
    "        #self.fromStrangeDecay = particle[13]\n",
    "        self.charge = particle[14]\n",
    "        self.hits = particle[15]\n",
    "        self.track = [hit for hit in event.hits if hit.id in self.hits]\n",
    "        self.is_decay = particle[11] or particle[12] or particle[13]"
   ]
  },
  {
   "cell_type": "code",
   "execution_count": 103,
   "metadata": {},
   "outputs": [
    {
     "name": "stdout",
     "output_type": "stream",
     "text": [
      "we look at 151 events \n",
      "\n",
      "0% done\n",
      "1% done\n",
      "1% done\n",
      "2% done\n",
      "3% done\n",
      "3% done\n",
      "4% done\n",
      "5% done\n",
      "5% done\n",
      "6% done\n",
      "7% done\n",
      "7% done\n",
      "8% done\n",
      "9% done\n",
      "9% done\n",
      "10% done\n",
      "11% done\n",
      "11% done\n",
      "12% done\n",
      "13% done\n",
      "13% done\n",
      "14% done\n",
      "15% done\n",
      "15% done\n",
      "16% done\n",
      "17% done\n",
      "17% done\n",
      "18% done\n",
      "19% done\n",
      "19% done\n",
      "20% done\n",
      "21% done\n",
      "21% done\n",
      "22% done\n",
      "23% done\n",
      "23% done\n",
      "24% done\n",
      "25% done\n",
      "25% done\n",
      "26% done\n",
      "27% done\n",
      "27% done\n",
      "28% done\n",
      "29% done\n",
      "29% done\n",
      "30% done\n",
      "31% done\n",
      "31% done\n",
      "32% done\n",
      "33% done\n",
      "33% done\n",
      "34% done\n",
      "35% done\n",
      "35% done\n",
      "36% done\n",
      "37% done\n",
      "37% done\n",
      "38% done\n",
      "39% done\n",
      "39% done\n",
      "40% done\n",
      "41% done\n",
      "41% done\n",
      "42% done\n",
      "43% done\n",
      "43% done\n",
      "44% done\n",
      "45% done\n",
      "45% done\n",
      "46% done\n",
      "47% done\n",
      "47% done\n",
      "48% done\n",
      "49% done\n",
      "49% done\n",
      "50% done\n",
      "51% done\n",
      "51% done\n",
      "52% done\n",
      "53% done\n",
      "53% done\n",
      "54% done\n",
      "55% done\n",
      "55% done\n",
      "56% done\n",
      "57% done\n",
      "57% done\n",
      "58% done\n",
      "59% done\n",
      "59% done\n",
      "60% done\n",
      "61% done\n",
      "61% done\n",
      "62% done\n",
      "63% done\n",
      "63% done\n",
      "64% done\n",
      "65% done\n",
      "65% done\n",
      "66% done\n",
      "67% done\n",
      "67% done\n",
      "68% done\n",
      "69% done\n",
      "69% done\n",
      "70% done\n",
      "71% done\n",
      "71% done\n",
      "72% done\n",
      "73% done\n",
      "73% done\n",
      "74% done\n",
      "75% done\n",
      "75% done\n",
      "76% done\n",
      "77% done\n",
      "77% done\n",
      "78% done\n",
      "79% done\n",
      "79% done\n",
      "80% done\n",
      "81% done\n",
      "81% done\n",
      "82% done\n",
      "83% done\n",
      "83% done\n",
      "84% done\n",
      "85% done\n",
      "85% done\n",
      "86% done\n",
      "87% done\n",
      "87% done\n",
      "88% done\n",
      "89% done\n",
      "89% done\n",
      "90% done\n",
      "91% done\n",
      "91% done\n",
      "92% done\n",
      "93% done\n",
      "93% done\n",
      "94% done\n",
      "95% done\n",
      "95% done\n",
      "96% done\n",
      "97% done\n",
      "97% done\n",
      "98% done\n",
      "99% done\n",
      "99% done\n",
      "100% done\n"
     ]
    }
   ],
   "source": [
    "#print(event.hits[6].id) \n",
    "# nice! id matches position in hitlist\n",
    "num_events = len(all_considered_events)\n",
    "print(f'we look at {num_events} events \\n')\n",
    "\n",
    "all_particles = []\n",
    "for idx, event in enumerate(all_considered_events): \n",
    "    #noise_hits = event.hits.copy()\n",
    "    print(f'{round(idx/(num_events-1)*100)}% done')\n",
    "    \n",
    "    for part in event.montecarlo.get('particles'):\n",
    "        temp_particle = particle(part, event)\n",
    "        #if not temp_particle.is_decay:\n",
    "        all_particles = all_particles + [temp_particle]\n",
    "        #for hit in temp_particle.track:\n",
    "            #if noise_hits:\n",
    "                # implicitl asserting a hit only apears on one track\n",
    "                #noise_hits = noise_hits.remove(hit)\n",
    "\n",
    "    # no noise in here!\n",
    "    # print(noise_hits)\n"
   ]
  },
  {
   "cell_type": "code",
   "execution_count": 95,
   "metadata": {},
   "outputs": [
    {
     "name": "stdout",
     "output_type": "stream",
     "text": [
      "number of particles were looking at 42089\n"
     ]
    }
   ],
   "source": [
    "# Lets analyse angles of the particles (distribution of this)\n",
    "all_angles = []\n",
    "num_hits = []\n",
    "print(f'number of particles were looking at {len(all_particles)}')\n",
    "\n",
    "for particle in all_particles:\n",
    "    all_angles = all_angles + [particle.phi]\n",
    "    num_hits = num_hits + [len(particle.track)]"
   ]
  },
  {
   "cell_type": "code",
   "execution_count": 107,
   "metadata": {},
   "outputs": [],
   "source": [
    "import math\n",
    "\n",
    "def dotproduct(v1, v2):\n",
    "  return sum((a*b) for a, b in zip(v1, v2))\n",
    "\n",
    "def length(v):\n",
    "  return math.sqrt(dotproduct(v, v))\n",
    "\n",
    "def angle(v1, v2):\n",
    "  return math.acos(dotproduct(v1, v2) / (length(v1) * length(v2)))\n"
   ]
  },
  {
   "cell_type": "code",
   "execution_count": 115,
   "metadata": {},
   "outputs": [
    {
     "name": "stdout",
     "output_type": "stream",
     "text": [
      "0.09835775483079132\n",
      "0.10924594328021668\n",
      "0.09835775483079132\n",
      "0.10853646649800772\n",
      "0.09835775483079132\n",
      "0.10914568855397269\n",
      "0.09835775483079132\n",
      "0.10823054396620299\n"
     ]
    }
   ],
   "source": [
    "## need to check how phi is calculated\n",
    " \n",
    "# i think its the angle between two vectors, one is the beam line (0,0,1) vector and the second can be constructed\n",
    "# with 2 hits\n",
    "\n",
    "# can not solve the angle problem at the moment because we can not calc 360° angles in 3d space. dont know what the phi is\n",
    "\n",
    "# choose here any number to look at a particle\n",
    "# temp_track = all_particles[2100]\n",
    "\n",
    "# remarkable -> no decay and starts in module 45\n",
    "\n",
    "for i in range(len(temp_track.track)-2):\n",
    "    hit_1 = temp_track.track[i]\n",
    "    hit_2 = temp_track.track[i+1]\n",
    "    # assuming the track goes in direction of the z \n",
    "    v_beam = (0,0,1)\n",
    "    v_hits = (hit_2.x - hit_1.x,hit_2.y - hit_1.y,hit_2.z - hit_1.z )\n",
    "    #print(temp_track.phi/(5*np.pi))\n",
    "    print(angle(v_beam,v_hits))"
   ]
  },
  {
   "cell_type": "code",
   "execution_count": 91,
   "metadata": {},
   "outputs": [
    {
     "data": {
      "text/plain": [
       "15316"
      ]
     },
     "execution_count": 91,
     "metadata": {},
     "output_type": "execute_result"
    }
   ],
   "source": [
    "len(all_particles)"
   ]
  },
  {
   "cell_type": "code",
   "execution_count": 98,
   "metadata": {},
   "outputs": [
    {
     "name": "stdout",
     "output_type": "stream",
     "text": [
      "0.37893511368766186\n"
     ]
    },
    {
     "data": {
      "text/plain": [
       "(array([  30.,   26.,   13.,   29.,  479.,  446., 1640., 1623., 2131.,\n",
       "        2212., 1042., 1100., 1232., 1255., 1471., 1470., 1419., 1490.,\n",
       "        1568., 1527., 1379., 1218., 1136., 1106., 1063., 1000.,  887.,\n",
       "         835.,  699.,  678.,  610.,  597.,  566.,  460.,  504.,  419.,\n",
       "         420.,  379.,  600.,  587.,  744.,  571.,  764.,  663.,  623.,\n",
       "         600.,  351.,  315.,   16.,   10.,   42.,   44.]),\n",
       " array([ 0.        ,  0.98076923,  1.96153846,  2.94230769,  3.92307692,\n",
       "         4.90384615,  5.88461538,  6.86538462,  7.84615385,  8.82692308,\n",
       "         9.80769231, 10.78846154, 11.76923077, 12.75      , 13.73076923,\n",
       "        14.71153846, 15.69230769, 16.67307692, 17.65384615, 18.63461538,\n",
       "        19.61538462, 20.59615385, 21.57692308, 22.55769231, 23.53846154,\n",
       "        24.51923077, 25.5       , 26.48076923, 27.46153846, 28.44230769,\n",
       "        29.42307692, 30.40384615, 31.38461538, 32.36538462, 33.34615385,\n",
       "        34.32692308, 35.30769231, 36.28846154, 37.26923077, 38.25      ,\n",
       "        39.23076923, 40.21153846, 41.19230769, 42.17307692, 43.15384615,\n",
       "        44.13461538, 45.11538462, 46.09615385, 47.07692308, 48.05769231,\n",
       "        49.03846154, 50.01923077, 51.        ]),\n",
       " <BarContainer object of 52 artists>)"
      ]
     },
     "execution_count": 98,
     "metadata": {},
     "output_type": "execute_result"
    },
    {
     "data": {
      "image/png": "[encoded data removed]",
      "text/plain": [
       "<Figure size 432x288 with 1 Axes>"
      ]
     },
     "metadata": {
      "needs_background": "light"
     },
     "output_type": "display_data"
    }
   ],
   "source": [
    "################ getting the first and last hit of all the ###################\n",
    "# i define origin hit as the one with closest distance to z axis\n",
    "# i define the last hit as the one with furtherst distance from the z axis\n",
    "# i guess i only need to look at the first and last hit of one particle -> have not seen smth else\n",
    "min_hits = []\n",
    "max_hits = []\n",
    "count_reverse = 0\n",
    "for particle in all_particles:\n",
    "    hit1 = particle.track[0]    \n",
    "    hit2 = particle.track[-1]\n",
    "    \n",
    "    if math.sqrt(hit1.x**2 + hit1.y**2) < math.sqrt(hit2.x**2 + hit2.y**2):\n",
    "        min_hits = min_hits + [hit1]\n",
    "        max_hits = max_hits + [hit2]\n",
    "    else:\n",
    "        # this happens\n",
    "        min_hits = min_hits + [hit2]\n",
    "        max_hits = max_hits + [hit1]\n",
    "        count_reverse += 1\n",
    "    \n",
    "print(count_reverse/len(min_hits))\n",
    "############## hist the distr of closest and furthest hits #############\n",
    "\n",
    "plt.hist([hit.module_number for hit in min_hits], bins = 52)\n"
   ]
  },
  {
   "cell_type": "code",
   "execution_count": 99,
   "metadata": {},
   "outputs": [
    {
     "data": {
      "text/plain": [
       "(array([5057., 4798.,  400.,  435.,  366.,  389.,  233.,  262.,  664.,\n",
       "         599.,  777.,  715.,  258.,  220.,  263.,  280.,  291.,  292.,\n",
       "         312.,  323.,  345.,  385.,  443.,  461.,  479.,  493.,  453.,\n",
       "         467.,  452.,  483.,  468.,  475.,  473.,  393.,  435.,  411.,\n",
       "         671.,  670.,  865.,  839.,  911.,  872.,  692.,  657.,  328.,\n",
       "         370.,  321.,  306.,  322.,  323., 5020., 4872.]),\n",
       " array([ 0.        ,  0.98076923,  1.96153846,  2.94230769,  3.92307692,\n",
       "         4.90384615,  5.88461538,  6.86538462,  7.84615385,  8.82692308,\n",
       "         9.80769231, 10.78846154, 11.76923077, 12.75      , 13.73076923,\n",
       "        14.71153846, 15.69230769, 16.67307692, 17.65384615, 18.63461538,\n",
       "        19.61538462, 20.59615385, 21.57692308, 22.55769231, 23.53846154,\n",
       "        24.51923077, 25.5       , 26.48076923, 27.46153846, 28.44230769,\n",
       "        29.42307692, 30.40384615, 31.38461538, 32.36538462, 33.34615385,\n",
       "        34.32692308, 35.30769231, 36.28846154, 37.26923077, 38.25      ,\n",
       "        39.23076923, 40.21153846, 41.19230769, 42.17307692, 43.15384615,\n",
       "        44.13461538, 45.11538462, 46.09615385, 47.07692308, 48.05769231,\n",
       "        49.03846154, 50.01923077, 51.        ]),\n",
       " <BarContainer object of 52 artists>)"
      ]
     },
     "execution_count": 99,
     "metadata": {},
     "output_type": "execute_result"
    },
    {
     "data": {
      "image/png": "[encoded data removed]",
      "text/plain": [
       "<Figure size 432x288 with 1 Axes>"
      ]
     },
     "metadata": {
      "needs_background": "light"
     },
     "output_type": "display_data"
    }
   ],
   "source": [
    "plt.hist([hit.module_number for hit in max_hits], bins = 52)"
   ]
  },
  {
   "cell_type": "code",
   "execution_count": 70,
   "metadata": {},
   "outputs": [
    {
     "name": "stdout",
     "output_type": "stream",
     "text": [
      "16293\n",
      "beam_crossing\n",
      "775\n",
      "0.04756643957527772\n",
      "no_co\n",
      "426\n",
      "0.02614619775363653\n"
     ]
    }
   ],
   "source": [
    "################ checking how many tracks cross the beam line ##################\n",
    "################ also checking how many tracks dont have consecutive triplets ##########\n",
    "# the consecutive thing is really not nice\n",
    "beam_crossing_particles = []\n",
    "no_cosecutive_triplet = []\n",
    "\n",
    "# id say we have a beam cross if either x or y change sign among hits\n",
    "for particle in all_particles:\n",
    "    x_p, x_n, y_p, y_n, = False, False, False, False\n",
    "    triplet = 0\n",
    "    last_module = -2\n",
    "    for hit in particle.track:\n",
    "        x_p = hit.x >0 or x_p\n",
    "        x_n = hit.x <0 or x_n\n",
    "        y_p = hit.y >0 or y_p\n",
    "        y_n = hit.y <0 or y_n\n",
    "        \n",
    "        if triplet < 3:\n",
    "            if hit.module_number in (last_module + 1,last_module + 2):\n",
    "                triplet += 1\n",
    "                last_module = hit.module_number\n",
    "            else:\n",
    "                triplet = 1\n",
    "                last_module = hit.module_number\n",
    "                \n",
    "    if x_p + x_n + y_p + y_n > 2:\n",
    "        beam_crossing_particles = beam_crossing_particles + [particle]\n",
    "    if triplet < 3:\n",
    "        no_cosecutive_triplet = no_cosecutive_triplet + [particle]\n",
    "print(len(all_particles))\n",
    "print('beam_crossing')\n",
    "print(len(beam_crossing_particles))\n",
    "print(len(beam_crossing_particles)/len(all_particles))\n",
    "print('no_co')\n",
    "print(len(no_cosecutive_triplet))\n",
    "print(len(no_cosecutive_triplet)/len(all_particles))\n",
    "\n",
    "\n",
    "# 5% of the tracks seem to cross the line"
   ]
  },
  {
   "cell_type": "code",
   "execution_count": 71,
   "metadata": {},
   "outputs": [
    {
     "data": {
      "text/plain": [
       "0.970299"
      ]
     },
     "execution_count": 71,
     "metadata": {},
     "output_type": "execute_result"
    }
   ],
   "source": [
    "0.99**3"
   ]
  },
  {
   "cell_type": "code",
   "execution_count": 67,
   "metadata": {},
   "outputs": [
    {
     "data": {
      "text/plain": [
       "[#1377 module 13 {3.15, -4.567, -24.418},\n",
       " #1557 module 15 {5.347, -7.464, 0.581},\n",
       " #1715 module 17 {7.72, -10.537, 25.581},\n",
       " #1894 module 19 {10.014, -13.609, 50.581},\n",
       " #2136 module 21 {12.153, -16.604, 74.419},\n",
       " #2341 module 23 {14.642, -19.715, 99.419},\n",
       " #2761 module 27 {19.562, -25.801, 149.419}]"
      ]
     },
     "execution_count": 67,
     "metadata": {},
     "output_type": "execute_result"
    }
   ],
   "source": [
    "no_cosecutive_triplet[10000].track"
   ]
  },
  {
   "cell_type": "code",
   "execution_count": 60,
   "metadata": {},
   "outputs": [
    {
     "name": "stdout",
     "output_type": "stream",
     "text": [
      "977\n"
     ]
    }
   ],
   "source": [
    "decay = 0\n",
    "for particle in all_particles:\n",
    "    if particle.is_decay:\n",
    "        decay +=1\n",
    "print(decay)\n",
    "# abput 5% of particles from decay"
   ]
  },
  {
   "cell_type": "code",
   "execution_count": 59,
   "metadata": {},
   "outputs": [
    {
     "name": "stdout",
     "output_type": "stream",
     "text": [
      "132\n"
     ]
    }
   ],
   "source": [
    "decay = 0\n",
    "for particle in beam_crossing_particles:\n",
    "    if particle.is_decay:\n",
    "        decay +=1\n",
    "print(decay)\n",
    "# ~20%\n",
    "\n",
    "#775 -> 132"
   ]
  },
  {
   "cell_type": "code",
   "execution_count": 87,
   "metadata": {},
   "outputs": [
    {
     "data": {
      "text/plain": [
       "[#1667 module 34 {-0.367, -13.98, 236.919},\n",
       " #1768 module 36 {0.268, -21.622, 261.919},\n",
       " #1915 module 38 {1.642, -36.972, 313.081}]"
      ]
     },
     "execution_count": 87,
     "metadata": {},
     "output_type": "execute_result"
    }
   ],
   "source": [
    "beam_crossing_particles[20].track"
   ]
  },
  {
   "cell_type": "code",
   "execution_count": 85,
   "metadata": {},
   "outputs": [
    {
     "data": {
      "text/plain": [
       "0.03767932591422491"
      ]
     },
     "execution_count": 85,
     "metadata": {},
     "output_type": "execute_result"
    }
   ],
   "source": [
    "angle"
   ]
  },
  {
   "cell_type": "code",
   "execution_count": 16,
   "metadata": {},
   "outputs": [
    {
     "data": {
      "image/png": "[encoded data removed]",
      "text/plain": [
       "<Figure size 432x288 with 1 Axes>"
      ]
     },
     "metadata": {
      "needs_background": "light"
     },
     "output_type": "display_data"
    }
   ],
   "source": [
    "import numpy as np\n",
    "import matplotlib.pyplot as plt\n",
    "\n",
    "# discard ?!\n",
    "############### I cant tell if this plots the angles correctly #########\n",
    "# I think its correct because we get such a nice distribution\n",
    "\n",
    "bins_number = 20  # the [0, 360) interval will be subdivided into this\n",
    "# number of equal bins\n",
    "bins = np.linspace(0.0, 2 * np.pi, bins_number + 1)\n",
    "angles = [(np.pi + angle) for angle in all_angles]\n",
    "n, _, _ = plt.hist(angles, bins)\n",
    "\n",
    "plt.clf()\n",
    "width = 2 * np.pi / bins_number\n",
    "ax = plt.subplot(1, 1, 1, projection='polar')\n",
    "bars = ax.bar(bins[:bins_number], n, width=width, bottom=0.0)\n",
    "for bar in bars:\n",
    "    bar.set_alpha(0.5)\n",
    "plt.show()"
   ]
  },
  {
   "cell_type": "code",
   "execution_count": 83,
   "metadata": {},
   "outputs": [
    {
     "ename": "TypeError",
     "evalue": "'float' object is not callable",
     "output_type": "error",
     "traceback": [
      "\u001b[0;31m---------------------------------------------------------------------------\u001b[0m",
      "\u001b[0;31mTypeError\u001b[0m                                 Traceback (most recent call last)",
      "\u001b[0;32m<ipython-input-83-fffcade08665>\u001b[0m in \u001b[0;36m<module>\u001b[0;34m\u001b[0m\n\u001b[1;32m      4\u001b[0m \u001b[0;34m\u001b[0m\u001b[0m\n\u001b[1;32m      5\u001b[0m \u001b[0;32mfor\u001b[0m \u001b[0mparticle\u001b[0m \u001b[0;32min\u001b[0m \u001b[0mall_particles\u001b[0m\u001b[0;34m[\u001b[0m\u001b[0;34m:\u001b[0m\u001b[0;36m50\u001b[0m\u001b[0;34m]\u001b[0m\u001b[0;34m:\u001b[0m\u001b[0;34m\u001b[0m\u001b[0;34m\u001b[0m\u001b[0m\n\u001b[0;32m----> 6\u001b[0;31m     \u001b[0mdev_hit\u001b[0m\u001b[0;34m,\u001b[0m \u001b[0mhit\u001b[0m\u001b[0;34m,\u001b[0m \u001b[0mpred\u001b[0m\u001b[0;34m,\u001b[0m \u001b[0mangle\u001b[0m \u001b[0;34m=\u001b[0m \u001b[0mtrack_regression_analysis\u001b[0m\u001b[0;34m(\u001b[0m\u001b[0mparticle\u001b[0m\u001b[0;34m)\u001b[0m\u001b[0;34m\u001b[0m\u001b[0;34m\u001b[0m\u001b[0m\n\u001b[0m\u001b[1;32m      7\u001b[0m \u001b[0;34m\u001b[0m\u001b[0m\n\u001b[1;32m      8\u001b[0m     \u001b[0;32mif\u001b[0m \u001b[0mmax_angle\u001b[0m \u001b[0;34m<\u001b[0m \u001b[0mangle\u001b[0m\u001b[0;34m:\u001b[0m\u001b[0;34m\u001b[0m\u001b[0;34m\u001b[0m\u001b[0m\n",
      "\u001b[0;32m<ipython-input-82-c11dddcd9148>\u001b[0m in \u001b[0;36mtrack_regression_analysis\u001b[0;34m(particle)\u001b[0m\n\u001b[1;32m     25\u001b[0m         \u001b[0my_pred\u001b[0m \u001b[0;34m=\u001b[0m \u001b[0my_reg\u001b[0m\u001b[0;34m.\u001b[0m\u001b[0mpredict\u001b[0m\u001b[0;34m(\u001b[0m\u001b[0mnp\u001b[0m\u001b[0;34m.\u001b[0m\u001b[0marray\u001b[0m\u001b[0;34m(\u001b[0m\u001b[0;34m[\u001b[0m\u001b[0mhit\u001b[0m\u001b[0;34m.\u001b[0m\u001b[0mz\u001b[0m\u001b[0;34m]\u001b[0m\u001b[0;34m)\u001b[0m\u001b[0;34m.\u001b[0m\u001b[0mreshape\u001b[0m\u001b[0;34m(\u001b[0m\u001b[0;34m-\u001b[0m\u001b[0;36m1\u001b[0m\u001b[0;34m,\u001b[0m \u001b[0;36m1\u001b[0m\u001b[0;34m)\u001b[0m\u001b[0;34m)\u001b[0m\u001b[0;34m\u001b[0m\u001b[0;34m\u001b[0m\u001b[0m\n\u001b[1;32m     26\u001b[0m         \u001b[0mnew_deviation\u001b[0m \u001b[0;34m=\u001b[0m \u001b[0mmath\u001b[0m\u001b[0;34m.\u001b[0m\u001b[0msqrt\u001b[0m\u001b[0;34m(\u001b[0m\u001b[0;34m(\u001b[0m\u001b[0mx_pred\u001b[0m\u001b[0;34m[\u001b[0m\u001b[0;36m0\u001b[0m\u001b[0;34m]\u001b[0m\u001b[0;34m-\u001b[0m\u001b[0mhit\u001b[0m\u001b[0;34m.\u001b[0m\u001b[0mx\u001b[0m\u001b[0;34m)\u001b[0m\u001b[0;34m**\u001b[0m\u001b[0;36m2\u001b[0m \u001b[0;34m+\u001b[0m \u001b[0;34m(\u001b[0m\u001b[0my_pred\u001b[0m\u001b[0;34m[\u001b[0m\u001b[0;36m0\u001b[0m\u001b[0;34m]\u001b[0m\u001b[0;34m-\u001b[0m\u001b[0mhit\u001b[0m\u001b[0;34m.\u001b[0m\u001b[0my\u001b[0m\u001b[0;34m)\u001b[0m\u001b[0;34m**\u001b[0m\u001b[0;36m2\u001b[0m\u001b[0;34m)\u001b[0m\u001b[0;34m\u001b[0m\u001b[0;34m\u001b[0m\u001b[0m\n\u001b[0;32m---> 27\u001b[0;31m         \u001b[0mnew_angle\u001b[0m \u001b[0;34m=\u001b[0m \u001b[0mangle\u001b[0m\u001b[0;34m(\u001b[0m\u001b[0;34m(\u001b[0m\u001b[0mx_reg\u001b[0m\u001b[0;34m.\u001b[0m\u001b[0mcoef_\u001b[0m\u001b[0;34m[\u001b[0m\u001b[0;36m0\u001b[0m\u001b[0;34m]\u001b[0m\u001b[0;34m,\u001b[0m \u001b[0my_reg\u001b[0m\u001b[0;34m.\u001b[0m\u001b[0mcoef_\u001b[0m\u001b[0;34m[\u001b[0m\u001b[0;36m0\u001b[0m\u001b[0;34m]\u001b[0m\u001b[0;34m,\u001b[0m\u001b[0;36m1\u001b[0m\u001b[0;34m)\u001b[0m\u001b[0;34m,\u001b[0m \u001b[0;34m(\u001b[0m\u001b[0mhit\u001b[0m\u001b[0;34m.\u001b[0m\u001b[0mx\u001b[0m\u001b[0;34m-\u001b[0m\u001b[0mlast_hit\u001b[0m\u001b[0;34m.\u001b[0m\u001b[0mx\u001b[0m\u001b[0;34m,\u001b[0m\u001b[0mhit\u001b[0m\u001b[0;34m.\u001b[0m\u001b[0my\u001b[0m\u001b[0;34m-\u001b[0m\u001b[0mlast_hit\u001b[0m\u001b[0;34m.\u001b[0m\u001b[0my\u001b[0m\u001b[0;34m,\u001b[0m\u001b[0mhit\u001b[0m\u001b[0;34m.\u001b[0m\u001b[0mz\u001b[0m\u001b[0;34m-\u001b[0m\u001b[0mlast_hit\u001b[0m\u001b[0;34m.\u001b[0m\u001b[0mz\u001b[0m\u001b[0;34m)\u001b[0m\u001b[0;34m)\u001b[0m\u001b[0;34m\u001b[0m\u001b[0;34m\u001b[0m\u001b[0m\n\u001b[0m\u001b[1;32m     28\u001b[0m         \u001b[0;32mif\u001b[0m \u001b[0mnew_deviation\u001b[0m \u001b[0;34m>\u001b[0m  \u001b[0mmax_dev_hit\u001b[0m\u001b[0;34m:\u001b[0m\u001b[0;34m\u001b[0m\u001b[0;34m\u001b[0m\u001b[0m\n\u001b[1;32m     29\u001b[0m             \u001b[0mmax_dev_hit\u001b[0m \u001b[0;34m=\u001b[0m \u001b[0mnew_deviation\u001b[0m\u001b[0;34m\u001b[0m\u001b[0;34m\u001b[0m\u001b[0m\n",
      "\u001b[0;31mTypeError\u001b[0m: 'float' object is not callable"
     ]
    }
   ],
   "source": [
    "################ here I want to check what is the max and expected deviation of points from the line ############\n",
    "max_angle = 0\n",
    "max_deviation = 0\n",
    "\n",
    "for particle in all_particles[:50]:\n",
    "    dev_hit, hit, pred, angle = track_regression_analysis(particle)\n",
    "    \n",
    "    if max_angle < angle:\n",
    "        max_angle = angle\n",
    "    if max_deviation < dev_hit:\n",
    "        max_deviation = dev_hit\n",
    "\n",
    "print(max_angle)\n",
    "print(max_deviation)"
   ]
  },
  {
   "cell_type": "code",
   "execution_count": 84,
   "metadata": {},
   "outputs": [
    {
     "ename": "TypeError",
     "evalue": "'float' object is not callable",
     "output_type": "error",
     "traceback": [
      "\u001b[0;31m---------------------------------------------------------------------------\u001b[0m",
      "\u001b[0;31mTypeError\u001b[0m                                 Traceback (most recent call last)",
      "\u001b[0;32m<ipython-input-84-b421664b3038>\u001b[0m in \u001b[0;36m<module>\u001b[0;34m\u001b[0m\n\u001b[1;32m     38\u001b[0m \u001b[0;34m\u001b[0m\u001b[0m\n\u001b[1;32m     39\u001b[0m \u001b[0;34m\u001b[0m\u001b[0m\n\u001b[0;32m---> 40\u001b[0;31m \u001b[0mprint\u001b[0m\u001b[0;34m(\u001b[0m\u001b[0mtrack_regression_analysis\u001b[0m\u001b[0;34m(\u001b[0m\u001b[0mall_particles\u001b[0m\u001b[0;34m[\u001b[0m\u001b[0;36m0\u001b[0m\u001b[0;34m]\u001b[0m\u001b[0;34m)\u001b[0m\u001b[0;34m)\u001b[0m\u001b[0;34m\u001b[0m\u001b[0;34m\u001b[0m\u001b[0m\n\u001b[0m\u001b[1;32m     41\u001b[0m \u001b[0;34m\u001b[0m\u001b[0m\n",
      "\u001b[0;32m<ipython-input-84-b421664b3038>\u001b[0m in \u001b[0;36mtrack_regression_analysis\u001b[0;34m(particle)\u001b[0m\n\u001b[1;32m     25\u001b[0m         \u001b[0my_pred\u001b[0m \u001b[0;34m=\u001b[0m \u001b[0my_reg\u001b[0m\u001b[0;34m.\u001b[0m\u001b[0mpredict\u001b[0m\u001b[0;34m(\u001b[0m\u001b[0mnp\u001b[0m\u001b[0;34m.\u001b[0m\u001b[0marray\u001b[0m\u001b[0;34m(\u001b[0m\u001b[0;34m[\u001b[0m\u001b[0mhit\u001b[0m\u001b[0;34m.\u001b[0m\u001b[0mz\u001b[0m\u001b[0;34m]\u001b[0m\u001b[0;34m)\u001b[0m\u001b[0;34m.\u001b[0m\u001b[0mreshape\u001b[0m\u001b[0;34m(\u001b[0m\u001b[0;34m-\u001b[0m\u001b[0;36m1\u001b[0m\u001b[0;34m,\u001b[0m \u001b[0;36m1\u001b[0m\u001b[0;34m)\u001b[0m\u001b[0;34m)\u001b[0m\u001b[0;34m\u001b[0m\u001b[0;34m\u001b[0m\u001b[0m\n\u001b[1;32m     26\u001b[0m         \u001b[0mnew_deviation\u001b[0m \u001b[0;34m=\u001b[0m \u001b[0mmath\u001b[0m\u001b[0;34m.\u001b[0m\u001b[0msqrt\u001b[0m\u001b[0;34m(\u001b[0m\u001b[0;34m(\u001b[0m\u001b[0mx_pred\u001b[0m\u001b[0;34m[\u001b[0m\u001b[0;36m0\u001b[0m\u001b[0;34m]\u001b[0m\u001b[0;34m-\u001b[0m\u001b[0mhit\u001b[0m\u001b[0;34m.\u001b[0m\u001b[0mx\u001b[0m\u001b[0;34m)\u001b[0m\u001b[0;34m**\u001b[0m\u001b[0;36m2\u001b[0m \u001b[0;34m+\u001b[0m \u001b[0;34m(\u001b[0m\u001b[0my_pred\u001b[0m\u001b[0;34m[\u001b[0m\u001b[0;36m0\u001b[0m\u001b[0;34m]\u001b[0m\u001b[0;34m-\u001b[0m\u001b[0mhit\u001b[0m\u001b[0;34m.\u001b[0m\u001b[0my\u001b[0m\u001b[0;34m)\u001b[0m\u001b[0;34m**\u001b[0m\u001b[0;36m2\u001b[0m\u001b[0;34m)\u001b[0m\u001b[0;34m\u001b[0m\u001b[0;34m\u001b[0m\u001b[0m\n\u001b[0;32m---> 27\u001b[0;31m         \u001b[0mnew_angle\u001b[0m \u001b[0;34m=\u001b[0m \u001b[0mangle\u001b[0m\u001b[0;34m(\u001b[0m\u001b[0;34m(\u001b[0m\u001b[0mx_reg\u001b[0m\u001b[0;34m.\u001b[0m\u001b[0mcoef_\u001b[0m\u001b[0;34m,\u001b[0m \u001b[0my_reg\u001b[0m\u001b[0;34m.\u001b[0m\u001b[0mcoef_\u001b[0m\u001b[0;34m,\u001b[0m\u001b[0;36m1\u001b[0m\u001b[0;34m)\u001b[0m\u001b[0;34m,\u001b[0m \u001b[0;34m(\u001b[0m\u001b[0mhit\u001b[0m\u001b[0;34m.\u001b[0m\u001b[0mx\u001b[0m\u001b[0;34m-\u001b[0m\u001b[0mlast_hit\u001b[0m\u001b[0;34m.\u001b[0m\u001b[0mx\u001b[0m\u001b[0;34m,\u001b[0m\u001b[0mhit\u001b[0m\u001b[0;34m.\u001b[0m\u001b[0my\u001b[0m\u001b[0;34m-\u001b[0m\u001b[0mlast_hit\u001b[0m\u001b[0;34m.\u001b[0m\u001b[0my\u001b[0m\u001b[0;34m,\u001b[0m\u001b[0mhit\u001b[0m\u001b[0;34m.\u001b[0m\u001b[0mz\u001b[0m\u001b[0;34m-\u001b[0m\u001b[0mlast_hit\u001b[0m\u001b[0;34m.\u001b[0m\u001b[0mz\u001b[0m\u001b[0;34m)\u001b[0m\u001b[0;34m)\u001b[0m\u001b[0;34m\u001b[0m\u001b[0;34m\u001b[0m\u001b[0m\n\u001b[0m\u001b[1;32m     28\u001b[0m         \u001b[0;32mif\u001b[0m \u001b[0mnew_deviation\u001b[0m \u001b[0;34m>\u001b[0m  \u001b[0mmax_dev_hit\u001b[0m\u001b[0;34m:\u001b[0m\u001b[0;34m\u001b[0m\u001b[0;34m\u001b[0m\u001b[0m\n\u001b[1;32m     29\u001b[0m             \u001b[0mmax_dev_hit\u001b[0m \u001b[0;34m=\u001b[0m \u001b[0mnew_deviation\u001b[0m\u001b[0;34m\u001b[0m\u001b[0;34m\u001b[0m\u001b[0m\n",
      "\u001b[0;31mTypeError\u001b[0m: 'float' object is not callable"
     ]
    }
   ],
   "source": [
    "#from sklearn.linear_model import LinearRegression\n",
    "\n",
    "def track_regression_analysis(particle):\n",
    "    my_arr = np.zeros((len(particle.track),2))\n",
    "    z = np.zeros((len(particle.track),1))\n",
    "    for i, hit in enumerate(particle.track):\n",
    "        my_arr[i,0] = hit.x        \n",
    "        my_arr[i,1] = hit.y\n",
    "        z[i] = hit.z\n",
    "        \n",
    "    x_reg = LinearRegression().fit(z,my_arr[:,0])\n",
    "    y_reg = LinearRegression().fit(z,my_arr[:,1])\n",
    "    \n",
    "    dev_hit = particle.track[0]\n",
    "    x_pred = x_reg.predict(np.array([dev_hit.z]).reshape(-1, 1))\n",
    "    y_pred = y_reg.predict(np.array([dev_hit.z]).reshape(-1, 1))\n",
    "    pred = (x_pred,y_pred)\n",
    "    \n",
    "    max_dev_hit = math.sqrt((x_pred[0]-dev_hit.x)**2 + (y_pred[0]-dev_hit.y)**2)\n",
    "    max_angle = 0\n",
    "    last_hit = dev_hit\n",
    "    \n",
    "    for hit in particle.track[1:]:\n",
    "        x_pred = x_reg.predict(np.array([hit.z]).reshape(-1, 1))\n",
    "        y_pred = y_reg.predict(np.array([hit.z]).reshape(-1, 1))\n",
    "        new_deviation = math.sqrt((x_pred[0]-hit.x)**2 + (y_pred[0]-hit.y)**2)\n",
    "        print()\n",
    "        new_angle = angle((x_reg.coef_, y_reg.coef_,1), (hit.x-last_hit.x,hit.y-last_hit.y,hit.z-last_hit.z))\n",
    "        if new_deviation >  max_dev_hit:\n",
    "            max_dev_hit = new_deviation\n",
    "            dev_hit = hit\n",
    "            pred = (x_pred,y_pred)\n",
    "            \n",
    "        if new_angle > max_angle:\n",
    "            max_angle = new_angle\n",
    "            \n",
    "        last_hit = hit\n",
    "    return max_dev_hit, hit, pred, max_angle\n",
    "    \n",
    "\n",
    "print(track_regression_analysis(all_particles[0]))\n",
    "    "
   ]
  },
  {
   "cell_type": "code",
   "execution_count": 100,
   "metadata": {},
   "outputs": [],
   "source": [
    "# what do i want to analyse \n",
    "# - angles between the segments\n",
    "# - check for noise hits again in the small dataset\n",
    "# - # of tracks with triplet in last detectors -> triplets in the last 3 detectors\n",
    "# - distribution of distances from beamline in first hits"
   ]
  },
  {
   "cell_type": "code",
   "execution_count": null,
   "metadata": {},
   "outputs": [],
   "source": [
    "# why do we have a peak"
   ]
  }
 ],
 "metadata": {
  "kernelspec": {
   "display_name": "Python 3",
   "language": "python",
   "name": "python3"
  },
  "language_info": {
   "codemirror_mode": {
    "name": "ipython",
    "version": 3
   },
   "file_extension": ".py",
   "mimetype": "text/x-python",
   "name": "python",
   "nbconvert_exporter": "python",
   "pygments_lexer": "ipython3",
   "version": "3.8.5"
  }
 },
 "nbformat": 4,
 "nbformat_minor": 2
}
