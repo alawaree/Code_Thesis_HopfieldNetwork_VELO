{
 "cells": [
  {
   "cell_type": "code",
   "execution_count": null,
   "metadata": {},
   "outputs": [],
   "source": []
  },
  {
   "cell_type": "code",
   "execution_count": 1,
   "metadata": {},
   "outputs": [],
   "source": [
    "import json\n",
    "import math\n",
    "import random\n",
    "import os\n",
    "import numpy as np\n",
    "import scipy.stats as stats\n",
    "import matplotlib.pyplot as plt\n",
    "import sys"
   ]
  },
  {
   "cell_type": "code",
   "execution_count": 2,
   "metadata": {},
   "outputs": [
    {
     "name": "stdout",
     "output_type": "stream",
     "text": [
      "c:\\Users\\aurel\\Documents\\GitHub\\Code_Thesis_GitHub\\Code_Thesis_GitHub\n"
     ]
    }
   ],
   "source": [
    "project_root = os.path.abspath(os.path.join('..'))\n",
    "if project_root not in sys.path:\n",
    "    sys.path.append(project_root)\n",
    "    \n",
    "print(project_root)\n",
    "from event_model import event_model as em"
   ]
  },
  {
   "cell_type": "code",
   "execution_count": 3,
   "metadata": {},
   "outputs": [],
   "source": [
    "dataset={\n",
    "    'bsphiphi': 'datasets/bsphiphi',\n",
    "    'minibias': 'datasets/minibias',\n",
    "    'minibias_6th_samples': 'datasets/samples/minibias_samples_hits/Samples_2121_to_2464_hits',\n",
    "    'minibias_1th_samples': 'datasets/samples/minibias_samples_hits/Samples_51_to_663_hits',\n",
    "    'minibias_10th_samples': 'datasets/samples/minibias_samples_hits/Samples_3412_to_6786_hits'\n",
    "}"
   ]
  },
  {
   "cell_type": "code",
   "execution_count": 4,
   "metadata": {},
   "outputs": [],
   "source": [
    "def load_events_modules_tracks(dataset_path, load_percent, shuffle=False):\n",
    "\n",
    "    all_events = []\n",
    "    all_modules = []\n",
    "    all_tracks = []\n",
    "\n",
    "    for (dirpath, dirnames, filenames) in os.walk(os.path.abspath(os.path.join('..', dataset[dataset_path]))):\n",
    "        if shuffle:\n",
    "            random.shuffle(filenames)\n",
    "\n",
    "        for i, filename in enumerate(filenames):\n",
    "            # Get an event\n",
    "            f = open(os.path.realpath(os.path.join(dirpath, filename)))\n",
    "            json_data_event = json.loads(f.read())\n",
    "\n",
    "        ###\n",
    "            ev = em.event(json_data_event, read_tracks=True)\n",
    "            md = ev.modules\n",
    "            tk = ev.real_tracks\n",
    "        \n",
    "        ###\n",
    "            all_events.append(ev) \n",
    "            all_modules.append(md)\n",
    "            all_tracks.append(tk)\n",
    "\n",
    "            f.close()\n",
    "        \n",
    "            if i == int((load_percent * len(filenames))-1):\n",
    "                break \n",
    "        \n",
    "    print(f'Successfully loaded {len(all_events)} events from {dataset_path} dataset.' )\n",
    "\n",
    "    return all_events, all_modules, all_tracks"
   ]
  },
  {
   "cell_type": "code",
   "execution_count": 6,
   "metadata": {},
   "outputs": [
    {
     "name": "stdout",
     "output_type": "stream",
     "text": [
      "Successfully loaded 9 events from minibias dataset.\n"
     ]
    }
   ],
   "source": [
    "all_events_minibias,all_modules, all_tracks = load_events_modules_tracks('minibias', 0.01, False)"
   ]
  },
  {
   "cell_type": "code",
   "execution_count": 29,
   "metadata": {},
   "outputs": [
    {
     "name": "stdout",
     "output_type": "stream",
     "text": [
      "['__class__', '__delattr__', '__dict__', '__dir__', '__doc__', '__eq__', '__format__', '__ge__', '__getattribute__', '__gt__', '__hash__', '__init__', '__init_subclass__', '__le__', '__lt__', '__module__', '__ne__', '__new__', '__reduce__', '__reduce_ex__', '__repr__', '__setattr__', '__sizeof__', '__str__', '__subclasshook__', '__weakref__', 'description', 'hits', 'module_prefix_sum', 'module_zs', 'modules', 'montecarlo', 'number_of_hits', 'number_of_modules', 'real_tracks']\n",
      "Track with 5 hits: [#875 module 42 {-4.178, -4.705, 486.919}, #903 module 44 {-5.15, -5.781, 586.919}, #927 module 46 {-5.656, -6.338, 636.919}, #952 module 48 {-6.123, -6.883, 686.919}, #973 module 50 {-6.589, -7.427, 736.919}]\n",
      "[#875 module 42 {-4.178, -4.705, 486.919}, #903 module 44 {-5.15, -5.781, 586.919}, #927 module 46 {-5.656, -6.338, 636.919}, #952 module 48 {-6.123, -6.883, 686.919}, #973 module 50 {-6.589, -7.427, 736.919}]\n",
      "['__class__', '__delattr__', '__dict__', '__dir__', '__doc__', '__eq__', '__format__', '__ge__', '__getattribute__', '__gt__', '__hash__', '__init__', '__init_subclass__', '__iter__', '__le__', '__lt__', '__module__', '__ne__', '__new__', '__reduce__', '__reduce_ex__', '__repr__', '__setattr__', '__sizeof__', '__str__', '__subclasshook__', '__weakref__', 'add_hit', 'direction', 'first_hit_module', 'hits', 'max_cosecutive_phi_change', 'max_phi_change', 'min_r', 'missed_last_module', 'missed_penultimate_module', 'update_track']\n"
     ]
    }
   ],
   "source": [
    "event = all_events_minibias[0]\n",
    "print(dir(event))\n",
    "track = event.real_tracks[4]\n",
    "print(track)\n",
    "print(track.hits)\n",
    "print(dir(track))\n",
    "\n"
   ]
  },
  {
   "cell_type": "code",
   "execution_count": null,
   "metadata": {},
   "outputs": [],
   "source": [
    "print "
   ]
  },
  {
   "attachments": {},
   "cell_type": "markdown",
   "metadata": {},
   "source": [
    "# Per event\n",
    "# hits in consecutives modules\n",
    "# all trakcs in odd modules > matrix odd HN\n",
    "# all tracks in even modules > matrix even HN\n",
    "# all tracks in both : divided beteen \n",
    "\n",
    "> dataframe avec deux colonnes:\n",
    "1ère colonne: hit id\n",
    "deuxième colonne: track numero de la track correspondante > 0 si aucune track, \n",
    "troisième colonne: module\n",
    "> group by, regrouper par track, regrouper par hit et on loop\n",
    "\n",
    "on regarde le hit, on regarde si il est dans une track et on met un poids, module par module\n",
    "\n",
    "logique: création de la matrix vide, que des 0 (calcul idem que pour HN)\n",
    "\n",
    "groupby module et pour chaque hit dans le module, (for loop); je viens donner à ma ligne 0 \n",
    "\n",
    "module par module\n",
    "> pour tous les hits dans ce modules,\n",
    "            >pour chaque hit je regarde si il est dans une track, si oui c'est 1 et je le sais en regardant la troisième colonne du dataframe \n",
    "\n",
    "if hit has track\n",
    "write 1 \n",
    "else enumerate module > index du module \n",
    "\n",
    "\n",
    "\n",
    "for i, module enumeerate list of modules:\n",
    "    for j, hit enumerate module.hits():\n",
    "        if hit has track:\n",
    "        [i,j] = 1 \n",
    "        elif  #(hit sans track mais dans mon module)\n",
    "        [i,j] = 1/sum(module.hits)\n",
    "        else: #\n",
    "        [i,j] = 0 \n",
    "\n",
    "\n",
    "for m, module enumeerate list of modules:\n",
    "    for i, hit enumerate module.hits():\n",
    "        len_hits_module_m = total hit dans module m\n",
    "\n",
    "        for j, hit enumerate m+1:\n",
    "             len_hits_module_m+1 = total hit dans module m+1\n",
    "\n",
    "        total_neurons = len_hits_module_m + len_hits_module_m+1\n",
    "\n",
    "        if i and j in track:\n",
    "            [i,j] = 1 \n",
    "        elif  #(segment mais pas dans track)\n",
    "            [i,j] = 1/len()\n",
    "        else: #\n",
    "        [i,j] = 0 \n",
    "\n",
    "\n",
    "Dataframe segment\n",
    "1ère col: module number\n",
    "2ème colonne: hit id\n",
    "3ème colonne: track id (for this event, need to be created)\n",
    "> liste de tuples \n",
    "\n",
    "Trasnformation vers layer\n",
    "\n",
    "join(all hit in module 0 * all hits in module 1)\n",
    "\n",
    "1ère ligne: O, hit 1, track1,\n",
    ">\n",
    "1ère igne: \n",
    "\n",
    "\n",
    "\n",
    "\n",
    "for m in modules:\n",
    "    for n in modules+1:\n",
    "    "
   ]
  }
 ],
 "metadata": {
  "kernelspec": {
   "display_name": "Python 3",
   "language": "python",
   "name": "python3"
  },
  "language_info": {
   "codemirror_mode": {
    "name": "ipython",
    "version": 3
   },
   "file_extension": ".py",
   "mimetype": "text/x-python",
   "name": "python",
   "nbconvert_exporter": "python",
   "pygments_lexer": "ipython3",
   "version": "3.9.2"
  },
  "orig_nbformat": 4
 },
 "nbformat": 4,
 "nbformat_minor": 2
}
