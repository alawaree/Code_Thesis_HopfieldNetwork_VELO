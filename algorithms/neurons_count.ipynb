{
 "cells": [
  {
   "attachments": {},
   "cell_type": "markdown",
   "metadata": {},
   "source": [
    "# Work on the neurons"
   ]
  },
  {
   "cell_type": "code",
   "execution_count": 1,
   "metadata": {},
   "outputs": [
    {
     "name": "stdout",
     "output_type": "stream",
     "text": [
      "c:\\Users\\aurel\\Documents\\GitHub\\Code_Thesis_GitHub\\Code_Thesis_GitHub\n"
     ]
    }
   ],
   "source": [
    "# Initialization\n",
    "# 1. Get the relevant dependencies \n",
    "import json\n",
    "import os\n",
    "import sys \n",
    "import random\n",
    "import math\n",
    "import numpy as np\n",
    "import pandas as pd\n",
    "import inspect\n",
    "import os.path\n",
    "import matplotlib.pyplot as plt\n",
    "import heapq\n",
    "from math import atan2,pi\n",
    "\n",
    "project_root = os.path.abspath(os.path.join('..'))\n",
    "if project_root not in sys.path:\n",
    "    sys.path.append(project_root)\n",
    "\n",
    "print(project_root)\n",
    "\n",
    "\n"
   ]
  },
  {
   "cell_type": "code",
   "execution_count": 5,
   "metadata": {},
   "outputs": [],
   "source": [
    "module_path = os.path.abspath(os.path.join('..'))\n",
    "if module_path not in sys.path:\n",
    "    sys.path.append(module_path)\n",
    "    \n",
    "from event_model import event_model as em\n",
    "from validator import validator_lite as vl\n",
    "import data_analysis.event_generator as eg\n",
    "from visual.color_map import Colormap\n"
   ]
  },
  {
   "cell_type": "code",
   "execution_count": 6,
   "metadata": {},
   "outputs": [],
   "source": [
    "def load_event(file_name, plot_event=False):\n",
    "\n",
    "    f = open(file_name)\n",
    "    json_data_event = json.loads(f.read())\n",
    "\n",
    "    ev = em.event(json_data_event, read_tracks=True)\n",
    "\n",
    "    modules = ev.modules\n",
    "    tracks = ev.real_tracks\n",
    "\n",
    "    if plot_event:\n",
    "        eg.plot_tracks_and_modules(tracks, modules, title=\"Loaded Event\")\n",
    "\n",
    "    modules_even = []\n",
    "    modules_odd = []\n",
    "\n",
    "    for i in range(len(modules)):\n",
    "        if i % 2 == 0:\n",
    "            modules_even.append(modules[i])\n",
    "        else:\n",
    "            modules_odd.append(modules[i])\n",
    "\n",
    "    return json_data_event, modules"
   ]
  },
  {
   "attachments": {},
   "cell_type": "markdown",
   "metadata": {},
   "source": [
    "## Minibias dataset"
   ]
  },
  {
   "cell_type": "code",
   "execution_count": 100,
   "metadata": {},
   "outputs": [
    {
     "name": "stdout",
     "output_type": "stream",
     "text": [
      "995\n"
     ]
    },
    {
     "data": {
      "text/plain": [
       "995"
      ]
     },
     "execution_count": 100,
     "metadata": {},
     "output_type": "execute_result"
    }
   ],
   "source": [
    "Json_data_all_events = []\n",
    "all_tracks = []\n",
    "all_events = [i for i in range(995)]\n",
    "random.seed(40)\n",
    "random.shuffle(all_events)\n",
    "\n",
    "nr_events = 10\n",
    "event_file_name = \"/datasets/minibias/velo_event_\"\n",
    "file_name = project_root + event_file_name\n",
    "\n",
    "\n",
    "list_max_neurons =  []\n",
    "for i in all_events[:]:\n",
    "        #print(\"[INFO] Evaluate Event: %s\" % file_name + str(i))\n",
    "        size = os.path.getsize(file_name + str(i) + \".json\")\n",
    "        json_data_event, modules = load_event(file_name + str(i) + \".json\", plot_event=False)\n",
    "\n",
    "        modules_count = len(modules)\n",
    "        hit_counts = [len(module.hits()) for module in modules]\n",
    "        neuron_count = [\n",
    "            hit_counts[i] * hit_counts[i + 1]\n",
    "            for i in range(modules_count - 1)\n",
    "            ]\n",
    "        max_neurons = max(neuron_count)\n",
    "        list_max_neurons.append(max_neurons)\n",
    "len(list_max_neurons)"
   ]
  },
  {
   "cell_type": "code",
   "execution_count": null,
   "metadata": {},
   "outputs": [],
   "source": [
    "maximum = list_max_neurons[0]\n",
    "index = 0\n",
    "\n",
    "for i, n in enumerate(list_max_neurons):\n",
    "    if n > maximum:\n",
    "        maximum = n\n",
    "        index = i\n",
    "print('Maximum value and its index:', maximum,',',index)\n",
    "\n",
    "minimum = list_max_neurons[0]\n",
    "index = 0\n",
    "\n",
    "for i, n in enumerate(list_max_neurons):\n",
    "    if n < maximum:\n",
    "        minimum = n\n",
    "        index = i\n",
    "print('Minimum value and its index:',minimum,',',index)"
   ]
  },
  {
   "cell_type": "code",
   "execution_count": 102,
   "metadata": {},
   "outputs": [
    {
     "data": {
      "image/png": "[encoded data removed]",
      "text/plain": [
       "<Figure size 640x480 with 1 Axes>"
      ]
     },
     "metadata": {},
     "output_type": "display_data"
    }
   ],
   "source": [
    "plt.hist(list_max_neurons,color = \"skyblue\", edgecolor='blue',bins=75)\n",
    "plt.xlabel('# of max neurons')\n",
    "plt.ylabel('# of events')\n",
    "#plt.ylim(0, 3)\n",
    "plt.grid(True, color='grey', linewidth=0.5)\n",
    "plt.title('Histogram maximum number of neurons created by event')\n",
    "#plt.savefig(f'neurons_analysis/Histogram_neurons_analysis_minibias.png')\n",
    "plt.show()     "
   ]
  },
  {
   "attachments": {},
   "cell_type": "markdown",
   "metadata": {},
   "source": [
    "## Bsphiphi dataset"
   ]
  },
  {
   "cell_type": "code",
   "execution_count": 103,
   "metadata": {},
   "outputs": [
    {
     "name": "stdout",
     "output_type": "stream",
     "text": [
      "1000\n"
     ]
    },
    {
     "data": {
      "text/plain": [
       "1000"
      ]
     },
     "execution_count": 103,
     "metadata": {},
     "output_type": "execute_result"
    }
   ],
   "source": [
    "all_events = [i for i in range(1000)]\n",
    "\n",
    "random.seed(40)\n",
    "random.shuffle(all_events)\n",
    "\n",
    "nr_events = 10\n",
    "event_file_name = \"/datasets/bsphiphi/velo_event_\"\n",
    "file_name = project_root + event_file_name\n",
    "\n",
    "list_max_neurons =  []\n",
    "for i in all_events[:]:\n",
    "        #print(\"[INFO] Evaluate Event: %s\" % file_name + str(i))\n",
    "        size = os.path.getsize(file_name + str(i) + \".json\")\n",
    "        json_data_event, modules = load_event(file_name + str(i) + \".json\", plot_event=False)\n",
    "\n",
    "        modules_count = len(modules)\n",
    "        hit_counts = [len(module.hits()) for module in modules]\n",
    "        neuron_count = [\n",
    "            hit_counts[i] * hit_counts[i + 1]\n",
    "            for i in range(modules_count - 1)\n",
    "            ]\n",
    "        max_neurons = max(neuron_count)\n",
    "        list_max_neurons.append(max_neurons)\n",
    "        \n",
    "len(list_max_neurons)"
   ]
  },
  {
   "cell_type": "code",
   "execution_count": 109,
   "metadata": {},
   "outputs": [
    {
     "name": "stdout",
     "output_type": "stream",
     "text": [
      "Maximum value and its index: 40145 , 292\n",
      "Minimum value and its index: 2009 , 999\n"
     ]
    }
   ],
   "source": [
    "maximum = list_max_neurons[0]\n",
    "index = 0\n",
    "\n",
    "for i, n in enumerate(list_max_neurons):\n",
    "    if n > maximum:\n",
    "        maximum = n\n",
    "        index = i\n",
    "print('Maximum value and its index:', maximum,',',index)\n",
    "\n",
    "minimum = list_max_neurons[0]\n",
    "index = 0\n",
    "\n",
    "for i, n in enumerate(list_max_neurons):\n",
    "    if n < maximum:\n",
    "        minimum = n\n",
    "        index = i\n",
    "print('Minimum value and its index:',minimum,',',index)"
   ]
  },
  {
   "cell_type": "code",
   "execution_count": 104,
   "metadata": {},
   "outputs": [
    {
     "data": {
      "image/png": "[encoded data removed]",
      "text/plain": [
       "<Figure size 640x480 with 1 Axes>"
      ]
     },
     "metadata": {},
     "output_type": "display_data"
    }
   ],
   "source": [
    "plt.hist(list_max_neurons,color = \"skyblue\", edgecolor='blue',bins=75)\n",
    "plt.xlabel('# of max neurons')\n",
    "plt.ylabel('# of events')\n",
    "plt.grid(True, color='grey', linewidth=0.5)\n",
    "plt.title('Histogram maximum number of neurons created by event')\n",
    "#plt.savefig(f'neurons_analysis/Histogram_neurons_analysis_bsphiphi.png')\n",
    "plt.show()     "
   ]
  }
 ],
 "metadata": {
  "kernelspec": {
   "display_name": "Python 3",
   "language": "python",
   "name": "python3"
  },
  "language_info": {
   "codemirror_mode": {
    "name": "ipython",
    "version": 3
   },
   "file_extension": ".py",
   "mimetype": "text/x-python",
   "name": "python",
   "nbconvert_exporter": "python",
   "pygments_lexer": "ipython3",
   "version": "3.9.2"
  },
  "orig_nbformat": 4,
  "vscode": {
   "interpreter": {
    "hash": "01fe50a16b4ce4d8d34632692592e1bc62ea71f5ccf21d36838697cffecce7a9"
   }
  }
 },
 "nbformat": 4,
 "nbformat_minor": 2
}
