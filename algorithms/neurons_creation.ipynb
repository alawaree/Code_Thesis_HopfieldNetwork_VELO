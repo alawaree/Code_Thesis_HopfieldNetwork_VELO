{
 "cells": [
  {
   "attachments": {},
   "cell_type": "markdown",
   "metadata": {},
   "source": [
    "# Work on the neurons creation"
   ]
  },
  {
   "cell_type": "code",
   "execution_count": 1,
   "metadata": {},
   "outputs": [],
   "source": [
    "############################### DEPENDENCIES ##################################\n",
    "import json\n",
    "import os\n",
    "import sys\n",
    "import contextlib\n",
    "import io\n",
    "import numpy as np\n",
    "import inspect\n",
    "import os.path\n",
    "import matplotlib.pyplot as plt\n",
    "from math import pi, atan, sin, sqrt, tanh, cosh, exp, ceil\n",
    "import seaborn as sns\n",
    "from numpy.core.fromnumeric import shape\n",
    "import random\n",
    "import time\n",
    "import math\n",
    "import statistics\n",
    "from pathlib import Path"
   ]
  },
  {
   "cell_type": "code",
   "execution_count": 3,
   "metadata": {},
   "outputs": [
    {
     "name": "stdout",
     "output_type": "stream",
     "text": [
      "C:\\Users\\aurel\\AppData\\Local\\Temp\n"
     ]
    }
   ],
   "source": [
    "filename = inspect.getframeinfo(inspect.currentframe()).filename\n",
    "file_path = os.path.dirname(os.path.abspath(filename))\n",
    "project_root = os.path.dirname(file_path)\n",
    "\n",
    "\n",
    "\n",
    "print(project_root)\n"
   ]
  },
  {
   "cell_type": "code",
   "execution_count": null,
   "metadata": {},
   "outputs": [],
   "source": [
    "\n",
    "if project_root not in sys.path:\n",
    "    sys.path.append(project_root)\n",
    "\n",
    "from event_model import event_model as em\n",
    "from validator import validator_lite as vl\n",
    "import data_analysis.event_generator as eg\n",
    "from visual.color_map import Colormap\n",
    "\n"
   ]
  }
 ],
 "metadata": {
  "kernelspec": {
   "display_name": "Python 3",
   "language": "python",
   "name": "python3"
  },
  "language_info": {
   "codemirror_mode": {
    "name": "ipython",
    "version": 3
   },
   "file_extension": ".py",
   "mimetype": "text/x-python",
   "name": "python",
   "nbconvert_exporter": "python",
   "pygments_lexer": "ipython3",
   "version": "3.9.2"
  },
  "orig_nbformat": 4,
  "vscode": {
   "interpreter": {
    "hash": "01fe50a16b4ce4d8d34632692592e1bc62ea71f5ccf21d36838697cffecce7a9"
   }
  }
 },
 "nbformat": 4,
 "nbformat_minor": 2
}
